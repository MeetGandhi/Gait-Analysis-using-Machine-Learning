{
 "cells": [
  {
   "cell_type": "code",
   "execution_count": 1,
   "metadata": {},
   "outputs": [],
   "source": [
    "import numpy as np\n",
    "from scipy.io import loadmat\n",
    "from sklearn.feature_selection import SelectFromModel\n",
    "from sklearn.neural_network import MLPClassifier\n",
    "from sklearn.ensemble import RandomForestClassifier\n",
    "\n",
    "x = loadmat('Fulltestingmod.mat')\n",
    "\n",
    "feat_dict = {0:'Single Stance Right', 1:'Single Stance Left', 2:'Double Stance 1', 3:'Double Stance 2', 4:'Step Length Left', \n",
    "             5:'Step Width Left', 6:'Step Length Right', 7:'Step Width Right', \n",
    "             8:'General Margin of Stability just after initiating RHS', 9:'General Margin of Stability just before LTO', \n",
    "             10:'General Margin of Stability just after LTO', 11:'General Margin of Stability at midpoint of LTO and LHS', \n",
    "             12:'General Margin of Stability just before LHS', 13:'General Margin of Stability just after LHS', \n",
    "             14:'General Margin of Stability just before RTO', 15:'General Margin of Stability just after RTO', \n",
    "             16:'General Margin of Stability at midpoint of RTO and terminating RHS',\n",
    "             17:'General Margin of Stability just before terminating RHS', \n",
    "             18:'MOS Medial-Lateral Left', 19:'MOS Anterior-Posterior Left', 20:'MOS Medial-Lateral Right', \n",
    "             21:'MOS Anterior-Posterior Right'}"
   ]
  },
  {
   "cell_type": "code",
   "execution_count": 2,
   "metadata": {},
   "outputs": [],
   "source": [
    "sub = x['sub']\n",
    "sub1 = sub[0][0][0]\n",
    "sub2 = sub[0][1][0]\n",
    "sub3 = sub[0][2][0]\n",
    "sub4 = sub[0][3][0]\n",
    "sub5 = sub[0][4][0]\n",
    "\n",
    "sub3b = sub3[0][0][0]\n",
    "sub4b = sub4[0][0][0]\n",
    "sub5b = sub5[0][0][0]\n",
    "\n",
    "sub3t = sub3[0][1][0]\n",
    "sub4t = sub4[0][1][0]\n",
    "sub5t = sub5[0][1][0]\n",
    "\n",
    "sub3btr1gp = sub3b[0][0][2][0]\n",
    "sub3btr2gp = sub3b[0][1][2][0]\n",
    "sub3btr3gp = sub3b[0][2][2][0]\n",
    "\n",
    "sub4btr1gp = sub4b[0][0][2][0]\n",
    "sub4btr2gp = sub4b[0][1][2][0]\n",
    "sub4btr3gp = sub4b[0][2][2][0]\n",
    "\n",
    "sub5btr1gp = sub5b[0][0][2][0]\n",
    "sub5btr2gp = sub5b[0][1][2][0]\n",
    "sub5btr3gp = sub5b[0][2][2][0]\n",
    "\n",
    "sub3ttr1gp = sub3t[0][0][2][0]\n",
    "sub3ttr2gp = sub3t[0][1][2][0]\n",
    "sub3ttr3gp = sub3t[0][2][2][0]\n",
    "\n",
    "sub4ttr1gp = sub4t[0][0][2][0]\n",
    "sub4ttr2gp = sub4t[0][1][2][0]\n",
    "sub4ttr3gp = sub4t[0][2][2][0]\n",
    "\n",
    "sub5ttr1gp = sub5t[0][0][2][0] \n",
    "sub5ttr2gp = sub5t[0][1][2][0]\n",
    "sub5ttr3gp = sub5t[0][2][2][0]"
   ]
  },
  {
   "cell_type": "code",
   "execution_count": 3,
   "metadata": {
    "scrolled": true
   },
   "outputs": [],
   "source": [
    "s3_b_ssr = []\n",
    "s3_b_ssl = []\n",
    "s3_b_ds1 = []\n",
    "s3_b_ds2 = []\n",
    "s3_b_sll = []\n",
    "s3_b_swl = []\n",
    "s3_b_slr = []\n",
    "s3_b_swr = []\n",
    "s3_b_mos = []\n",
    "s3_b_mosmll = []\n",
    "s3_b_mosapl = []\n",
    "s3_b_mosmlr = []\n",
    "s3_b_mosapr = []\n",
    "\n",
    "\n",
    "for i in range(sub3btr1gp.shape[0]):\n",
    "    s3_b_ssr = s3_b_ssr + [sub3btr1gp[i][2][0][0][0][0][0]]\n",
    "    s3_b_ssl = s3_b_ssl + [sub3btr1gp[i][2][0][0][1][0][0]]\n",
    "    s3_b_ds1 = s3_b_ds1 + [sub3btr1gp[i][2][0][0][2][0][0]]\n",
    "    s3_b_ds2 = s3_b_ds2 + [sub3btr1gp[i][2][0][0][3][0][0]]\n",
    "    s3_b_sll = s3_b_sll + [sub3btr1gp[i][1][0][0][0][0][0]]\n",
    "    s3_b_swl = s3_b_swl + [sub3btr1gp[i][1][0][0][1][0][0]]\n",
    "    s3_b_slr = s3_b_slr + [sub3btr1gp[i][1][0][0][2][0][0]]\n",
    "    s3_b_swr = s3_b_swr + [sub3btr1gp[i][1][0][0][3][0][0]]\n",
    "    s3_b_mos = s3_b_mos + [[sub3btr1gp[i][0][0][0][0][0]]]#[0]]]\n",
    "    s3_b_mosmll = s3_b_mosmll + [sub3btr1gp[i][0][0][0][1][0][0]]\n",
    "    s3_b_mosapl = s3_b_mosapl + [sub3btr1gp[i][0][0][0][2][0][0]]\n",
    "    s3_b_mosmlr = s3_b_mosmlr + [sub3btr1gp[i][0][0][0][3][0][0]] \n",
    "    s3_b_mosapr = s3_b_mosapr + [sub3btr1gp[i][0][0][0][4][0][0]]\n",
    "    \n",
    "for i in range(sub3btr2gp.shape[0]):\n",
    "    s3_b_ssr = s3_b_ssr + [sub3btr2gp[i][2][0][0][0][0][0]]\n",
    "    s3_b_ssl = s3_b_ssl + [sub3btr2gp[i][2][0][0][1][0][0]]\n",
    "    s3_b_ds1 = s3_b_ds1 + [sub3btr2gp[i][2][0][0][2][0][0]]\n",
    "    s3_b_ds2 = s3_b_ds2 + [sub3btr2gp[i][2][0][0][3][0][0]]\n",
    "    s3_b_sll = s3_b_sll + [sub3btr2gp[i][1][0][0][0][0][0]]\n",
    "    s3_b_swl = s3_b_swl + [sub3btr2gp[i][1][0][0][1][0][0]]\n",
    "    s3_b_slr = s3_b_slr + [sub3btr2gp[i][1][0][0][2][0][0]]\n",
    "    s3_b_swr = s3_b_swr + [sub3btr2gp[i][1][0][0][3][0][0]]\n",
    "    s3_b_mos = s3_b_mos + [[sub3btr2gp[i][0][0][0][0][0]]]#[0]]]\n",
    "    s3_b_mosmll = s3_b_mosmll + [sub3btr2gp[i][0][0][0][1][0][0]]\n",
    "    s3_b_mosapl = s3_b_mosapl + [sub3btr2gp[i][0][0][0][2][0][0]]\n",
    "    s3_b_mosmlr = s3_b_mosmlr + [sub3btr2gp[i][0][0][0][3][0][0]] \n",
    "    s3_b_mosapr = s3_b_mosapr + [sub3btr2gp[i][0][0][0][4][0][0]]\n",
    "    \n",
    "for i in range(sub3btr3gp.shape[0]):\n",
    "    s3_b_ssr = s3_b_ssr + [sub3btr3gp[i][2][0][0][0][0][0]]\n",
    "    s3_b_ssl = s3_b_ssl + [sub3btr3gp[i][2][0][0][1][0][0]]\n",
    "    s3_b_ds1 = s3_b_ds1 + [sub3btr3gp[i][2][0][0][2][0][0]]\n",
    "    s3_b_ds2 = s3_b_ds2 + [sub3btr3gp[i][2][0][0][3][0][0]]\n",
    "    s3_b_sll = s3_b_sll + [sub3btr3gp[i][1][0][0][0][0][0]]\n",
    "    s3_b_swl = s3_b_swl + [sub3btr3gp[i][1][0][0][1][0][0]]\n",
    "    s3_b_slr = s3_b_slr + [sub3btr3gp[i][1][0][0][2][0][0]]\n",
    "    s3_b_swr = s3_b_swr + [sub3btr3gp[i][1][0][0][3][0][0]]\n",
    "    s3_b_mos = s3_b_mos + [[sub3btr3gp[i][0][0][0][0][0]]]#[0]]]\n",
    "    s3_b_mosmll = s3_b_mosmll + [sub3btr3gp[i][0][0][0][1][0][0]]\n",
    "    s3_b_mosapl = s3_b_mosapl + [sub3btr3gp[i][0][0][0][2][0][0]]\n",
    "    s3_b_mosmlr = s3_b_mosmlr + [sub3btr3gp[i][0][0][0][3][0][0]] \n",
    "    s3_b_mosapr = s3_b_mosapr + [sub3btr3gp[i][0][0][0][4][0][0]]"
   ]
  },
  {
   "cell_type": "code",
   "execution_count": 4,
   "metadata": {},
   "outputs": [],
   "source": [
    "s3_t_ssr = []\n",
    "s3_t_ssl = []\n",
    "s3_t_ds1 = []\n",
    "s3_t_ds2 = []\n",
    "s3_t_sll = []\n",
    "s3_t_swl = []\n",
    "s3_t_slr = []\n",
    "s3_t_swr = []\n",
    "s3_t_mos = []\n",
    "s3_t_mosmll = []\n",
    "s3_t_mosapl = []\n",
    "s3_t_mosmlr = []\n",
    "s3_t_mosapr = []\n",
    "\n",
    "\n",
    "for i in range(sub3ttr1gp.shape[0]):\n",
    "    s3_t_ssr = s3_t_ssr + [sub3ttr1gp[i][2][0][0][0][0][0]]\n",
    "    s3_t_ssl = s3_t_ssl + [sub3ttr1gp[i][2][0][0][1][0][0]]\n",
    "    s3_t_ds1 = s3_t_ds1 + [sub3ttr1gp[i][2][0][0][2][0][0]]\n",
    "    s3_t_ds2 = s3_t_ds2 + [sub3ttr1gp[i][2][0][0][3][0][0]]\n",
    "    s3_t_sll = s3_t_sll + [sub3ttr1gp[i][1][0][0][0][0][0]]\n",
    "    s3_t_swl = s3_t_swl + [sub3ttr1gp[i][1][0][0][1][0][0]]\n",
    "    s3_t_slr = s3_t_slr + [sub3ttr1gp[i][1][0][0][2][0][0]]\n",
    "    s3_t_swr = s3_t_swr + [sub3ttr1gp[i][1][0][0][3][0][0]]\n",
    "    s3_t_mos = s3_t_mos + [[sub3ttr1gp[i][0][0][0][0][0]]]#[0]]]\n",
    "    s3_t_mosmll = s3_t_mosmll + [sub3ttr1gp[i][0][0][0][1][0][0]]\n",
    "    s3_t_mosapl = s3_t_mosapl + [sub3ttr1gp[i][0][0][0][2][0][0]]\n",
    "    s3_t_mosmlr = s3_t_mosmlr + [sub3ttr1gp[i][0][0][0][3][0][0]] \n",
    "    s3_t_mosapr = s3_t_mosapr + [sub3ttr1gp[i][0][0][0][4][0][0]]\n",
    "    \n",
    "for i in range(sub3ttr2gp.shape[0]):\n",
    "    s3_t_ssr = s3_t_ssr + [sub3ttr2gp[i][2][0][0][0][0][0]]\n",
    "    s3_t_ssl = s3_t_ssl + [sub3ttr2gp[i][2][0][0][1][0][0]]\n",
    "    s3_t_ds1 = s3_t_ds1 + [sub3ttr2gp[i][2][0][0][2][0][0]]\n",
    "    s3_t_ds2 = s3_t_ds2 + [sub3ttr2gp[i][2][0][0][3][0][0]]\n",
    "    s3_t_sll = s3_t_sll + [sub3ttr2gp[i][1][0][0][0][0][0]]\n",
    "    s3_t_swl = s3_t_swl + [sub3ttr2gp[i][1][0][0][1][0][0]]\n",
    "    s3_t_slr = s3_t_slr + [sub3ttr2gp[i][1][0][0][2][0][0]]\n",
    "    s3_t_swr = s3_t_swr + [sub3ttr2gp[i][1][0][0][3][0][0]]\n",
    "    s3_t_mos = s3_t_mos + [[sub3ttr2gp[i][0][0][0][0][0]]]#[0]]]\n",
    "    s3_t_mosmll = s3_t_mosmll + [sub3ttr2gp[i][0][0][0][1][0][0]]\n",
    "    s3_t_mosapl = s3_t_mosapl + [sub3ttr2gp[i][0][0][0][2][0][0]]\n",
    "    s3_t_mosmlr = s3_t_mosmlr + [sub3ttr2gp[i][0][0][0][3][0][0]] \n",
    "    s3_t_mosapr = s3_t_mosapr + [sub3ttr2gp[i][0][0][0][4][0][0]]\n",
    "    \n",
    "for i in range(sub3ttr3gp.shape[0]):\n",
    "    s3_t_ssr = s3_t_ssr + [sub3ttr3gp[i][2][0][0][0][0][0]]\n",
    "    s3_t_ssl = s3_t_ssl + [sub3ttr3gp[i][2][0][0][1][0][0]]\n",
    "    s3_t_ds1 = s3_t_ds1 + [sub3ttr3gp[i][2][0][0][2][0][0]]\n",
    "    s3_t_ds2 = s3_t_ds2 + [sub3ttr3gp[i][2][0][0][3][0][0]]\n",
    "    s3_t_sll = s3_t_sll + [sub3ttr3gp[i][1][0][0][0][0][0]]\n",
    "    s3_t_swl = s3_t_swl + [sub3ttr3gp[i][1][0][0][1][0][0]]\n",
    "    s3_t_slr = s3_t_slr + [sub3ttr3gp[i][1][0][0][2][0][0]]\n",
    "    s3_t_swr = s3_t_swr + [sub3ttr3gp[i][1][0][0][3][0][0]]\n",
    "    s3_t_mos = s3_t_mos + [[sub3ttr3gp[i][0][0][0][0][0]]]#[0]]]\n",
    "    s3_t_mosmll = s3_t_mosmll + [sub3ttr3gp[i][0][0][0][1][0][0]]\n",
    "    s3_t_mosapl = s3_t_mosapl + [sub3ttr3gp[i][0][0][0][2][0][0]]\n",
    "    s3_t_mosmlr = s3_t_mosmlr + [sub3ttr3gp[i][0][0][0][3][0][0]] \n",
    "    s3_t_mosapr = s3_t_mosapr + [sub3ttr3gp[i][0][0][0][4][0][0]]"
   ]
  },
  {
   "cell_type": "code",
   "execution_count": 5,
   "metadata": {},
   "outputs": [],
   "source": [
    "s4_b_ssr = []\n",
    "s4_b_ssl = []\n",
    "s4_b_ds1 = []\n",
    "s4_b_ds2 = []\n",
    "s4_b_sll = []\n",
    "s4_b_swl = []\n",
    "s4_b_slr = []\n",
    "s4_b_swr = []\n",
    "s4_b_mos = []\n",
    "s4_b_mosmll = []\n",
    "s4_b_mosapl = []\n",
    "s4_b_mosmlr = []\n",
    "s4_b_mosapr = []\n",
    "\n",
    "\n",
    "for i in range(sub4btr1gp.shape[0]):\n",
    "    s4_b_ssr = s4_b_ssr + [sub4btr1gp[i][2][0][0][0][0][0]]\n",
    "    s4_b_ssl = s4_b_ssl + [sub4btr1gp[i][2][0][0][1][0][0]]\n",
    "    s4_b_ds1 = s4_b_ds1 + [sub4btr1gp[i][2][0][0][2][0][0]]\n",
    "    s4_b_ds2 = s4_b_ds2 + [sub4btr1gp[i][2][0][0][3][0][0]]\n",
    "    s4_b_sll = s4_b_sll + [sub4btr1gp[i][1][0][0][0][0][0]]\n",
    "    s4_b_swl = s4_b_swl + [sub4btr1gp[i][1][0][0][1][0][0]]\n",
    "    s4_b_slr = s4_b_slr + [sub4btr1gp[i][1][0][0][2][0][0]]\n",
    "    s4_b_swr = s4_b_swr + [sub4btr1gp[i][1][0][0][3][0][0]]\n",
    "    s4_b_mos = s4_b_mos + [[sub4btr1gp[i][0][0][0][0][0]]]#[0]]]\n",
    "    s4_b_mosmll = s4_b_mosmll + [sub4btr1gp[i][0][0][0][1][0][0]]\n",
    "    s4_b_mosapl = s4_b_mosapl + [sub4btr1gp[i][0][0][0][2][0][0]]\n",
    "    s4_b_mosmlr = s4_b_mosmlr + [sub4btr1gp[i][0][0][0][3][0][0]] \n",
    "    s4_b_mosapr = s4_b_mosapr + [sub4btr1gp[i][0][0][0][4][0][0]]\n",
    "    \n",
    "for i in range(sub4btr2gp.shape[0]):\n",
    "    s4_b_ssr = s4_b_ssr + [sub4btr2gp[i][2][0][0][0][0][0]]\n",
    "    s4_b_ssl = s4_b_ssl + [sub4btr2gp[i][2][0][0][1][0][0]]\n",
    "    s4_b_ds1 = s4_b_ds1 + [sub4btr2gp[i][2][0][0][2][0][0]]\n",
    "    s4_b_ds2 = s4_b_ds2 + [sub4btr2gp[i][2][0][0][3][0][0]]\n",
    "    s4_b_sll = s4_b_sll + [sub4btr2gp[i][1][0][0][0][0][0]]\n",
    "    s4_b_swl = s4_b_swl + [sub4btr2gp[i][1][0][0][1][0][0]]\n",
    "    s4_b_slr = s4_b_slr + [sub4btr2gp[i][1][0][0][2][0][0]]\n",
    "    s4_b_swr = s4_b_swr + [sub4btr2gp[i][1][0][0][3][0][0]]\n",
    "    s4_b_mos = s4_b_mos + [[sub4btr2gp[i][0][0][0][0][0]]]#[0]]]\n",
    "    s4_b_mosmll = s4_b_mosmll + [sub4btr2gp[i][0][0][0][1][0][0]]\n",
    "    s4_b_mosapl = s4_b_mosapl + [sub4btr2gp[i][0][0][0][2][0][0]]\n",
    "    s4_b_mosmlr = s4_b_mosmlr + [sub4btr2gp[i][0][0][0][3][0][0]] \n",
    "    s4_b_mosapr = s4_b_mosapr + [sub4btr2gp[i][0][0][0][4][0][0]]\n",
    "    \n",
    "for i in range(sub4btr3gp.shape[0]):\n",
    "    s4_b_ssr = s4_b_ssr + [sub4btr3gp[i][2][0][0][0][0][0]]\n",
    "    s4_b_ssl = s4_b_ssl + [sub4btr3gp[i][2][0][0][1][0][0]]\n",
    "    s4_b_ds1 = s4_b_ds1 + [sub4btr3gp[i][2][0][0][2][0][0]]\n",
    "    s4_b_ds2 = s4_b_ds2 + [sub4btr3gp[i][2][0][0][3][0][0]]\n",
    "    s4_b_sll = s4_b_sll + [sub4btr3gp[i][1][0][0][0][0][0]]\n",
    "    s4_b_swl = s4_b_swl + [sub4btr3gp[i][1][0][0][1][0][0]]\n",
    "    s4_b_slr = s4_b_slr + [sub4btr3gp[i][1][0][0][2][0][0]]\n",
    "    s4_b_swr = s4_b_swr + [sub4btr3gp[i][1][0][0][3][0][0]]\n",
    "    s4_b_mos = s4_b_mos + [[sub4btr3gp[i][0][0][0][0][0]]]#[0]]]\n",
    "    s4_b_mosmll = s4_b_mosmll + [sub4btr3gp[i][0][0][0][1][0][0]]\n",
    "    s4_b_mosapl = s4_b_mosapl + [sub4btr3gp[i][0][0][0][2][0][0]]\n",
    "    s4_b_mosmlr = s4_b_mosmlr + [sub4btr3gp[i][0][0][0][3][0][0]] \n",
    "    s4_b_mosapr = s4_b_mosapr + [sub4btr3gp[i][0][0][0][4][0][0]]"
   ]
  },
  {
   "cell_type": "code",
   "execution_count": 6,
   "metadata": {},
   "outputs": [],
   "source": [
    "s4_t_ssr = []\n",
    "s4_t_ssl = []\n",
    "s4_t_ds1 = []\n",
    "s4_t_ds2 = []\n",
    "s4_t_sll = []\n",
    "s4_t_swl = []\n",
    "s4_t_slr = []\n",
    "s4_t_swr = []\n",
    "s4_t_mos = []\n",
    "s4_t_mosmll = []\n",
    "s4_t_mosapl = []\n",
    "s4_t_mosmlr = []\n",
    "s4_t_mosapr = []\n",
    "\n",
    "\n",
    "for i in range(sub4ttr1gp.shape[0]):\n",
    "    s4_t_ssr = s4_t_ssr + [sub4ttr1gp[i][2][0][0][0][0][0]]\n",
    "    s4_t_ssl = s4_t_ssl + [sub4ttr1gp[i][2][0][0][1][0][0]]\n",
    "    s4_t_ds1 = s4_t_ds1 + [sub4ttr1gp[i][2][0][0][2][0][0]]\n",
    "    s4_t_ds2 = s4_t_ds2 + [sub4ttr1gp[i][2][0][0][3][0][0]]\n",
    "    s4_t_sll = s4_t_sll + [sub4ttr1gp[i][1][0][0][0][0][0]]\n",
    "    s4_t_swl = s4_t_swl + [sub4ttr1gp[i][1][0][0][1][0][0]]\n",
    "    s4_t_slr = s4_t_slr + [sub4ttr1gp[i][1][0][0][2][0][0]]\n",
    "    s4_t_swr = s4_t_swr + [sub4ttr1gp[i][1][0][0][3][0][0]]\n",
    "    s4_t_mos = s4_t_mos + [[sub4ttr1gp[i][0][0][0][0][0]]]#[0]]]\n",
    "    s4_t_mosmll = s4_t_mosmll + [sub4ttr1gp[i][0][0][0][1][0][0]]\n",
    "    s4_t_mosapl = s4_t_mosapl + [sub4ttr1gp[i][0][0][0][2][0][0]]\n",
    "    s4_t_mosmlr = s4_t_mosmlr + [sub4ttr1gp[i][0][0][0][3][0][0]] \n",
    "    s4_t_mosapr = s4_t_mosapr + [sub4ttr1gp[i][0][0][0][4][0][0]]\n",
    "    \n",
    "for i in range(sub4ttr2gp.shape[0]):\n",
    "    s4_t_ssr = s4_t_ssr + [sub4ttr2gp[i][2][0][0][0][0][0]]\n",
    "    s4_t_ssl = s4_t_ssl + [sub4ttr2gp[i][2][0][0][1][0][0]]\n",
    "    s4_t_ds1 = s4_t_ds1 + [sub4ttr2gp[i][2][0][0][2][0][0]]\n",
    "    s4_t_ds2 = s4_t_ds2 + [sub4ttr2gp[i][2][0][0][3][0][0]]\n",
    "    s4_t_sll = s4_t_sll + [sub4ttr2gp[i][1][0][0][0][0][0]]\n",
    "    s4_t_swl = s4_t_swl + [sub4ttr2gp[i][1][0][0][1][0][0]]\n",
    "    s4_t_slr = s4_t_slr + [sub4ttr2gp[i][1][0][0][2][0][0]]\n",
    "    s4_t_swr = s4_t_swr + [sub4ttr2gp[i][1][0][0][3][0][0]]\n",
    "    s4_t_mos = s4_t_mos + [[sub4ttr2gp[i][0][0][0][0][0]]]#[0]]]\n",
    "    s4_t_mosmll = s4_t_mosmll + [sub4ttr2gp[i][0][0][0][1][0][0]]\n",
    "    s4_t_mosapl = s4_t_mosapl + [sub4ttr2gp[i][0][0][0][2][0][0]]\n",
    "    s4_t_mosmlr = s4_t_mosmlr + [sub4ttr2gp[i][0][0][0][3][0][0]] \n",
    "    s4_t_mosapr = s4_t_mosapr + [sub4ttr2gp[i][0][0][0][4][0][0]]\n",
    "    \n",
    "for i in range(sub4ttr3gp.shape[0]):\n",
    "    s4_t_ssr = s4_t_ssr + [sub4ttr3gp[i][2][0][0][0][0][0]]\n",
    "    s4_t_ssl = s4_t_ssl + [sub4ttr3gp[i][2][0][0][1][0][0]]\n",
    "    s4_t_ds1 = s4_t_ds1 + [sub4ttr3gp[i][2][0][0][2][0][0]]\n",
    "    s4_t_ds2 = s4_t_ds2 + [sub4ttr3gp[i][2][0][0][3][0][0]]\n",
    "    s4_t_sll = s4_t_sll + [sub4ttr3gp[i][1][0][0][0][0][0]]\n",
    "    s4_t_swl = s4_t_swl + [sub4ttr3gp[i][1][0][0][1][0][0]]\n",
    "    s4_t_slr = s4_t_slr + [sub4ttr3gp[i][1][0][0][2][0][0]]\n",
    "    s4_t_swr = s4_t_swr + [sub4ttr3gp[i][1][0][0][3][0][0]]\n",
    "    s4_t_mos = s4_t_mos + [[sub4ttr3gp[i][0][0][0][0][0]]]#[0]]]\n",
    "    s4_t_mosmll = s4_t_mosmll + [sub4ttr3gp[i][0][0][0][1][0][0]]\n",
    "    s4_t_mosapl = s4_t_mosapl + [sub4ttr3gp[i][0][0][0][2][0][0]]\n",
    "    s4_t_mosmlr = s4_t_mosmlr + [sub4ttr3gp[i][0][0][0][3][0][0]] \n",
    "    s4_t_mosapr = s4_t_mosapr + [sub4ttr3gp[i][0][0][0][4][0][0]]"
   ]
  },
  {
   "cell_type": "code",
   "execution_count": 7,
   "metadata": {},
   "outputs": [],
   "source": [
    "s5_b_ssr = []\n",
    "s5_b_ssl = []\n",
    "s5_b_ds1 = []\n",
    "s5_b_ds2 = []\n",
    "s5_b_sll = []\n",
    "s5_b_swl = []\n",
    "s5_b_slr = []\n",
    "s5_b_swr = []\n",
    "s5_b_mos = []\n",
    "s5_b_mosmll = []\n",
    "s5_b_mosapl = []\n",
    "s5_b_mosmlr = []\n",
    "s5_b_mosapr = []\n",
    "\n",
    "\n",
    "for i in range(sub5btr1gp.shape[0]):\n",
    "    s5_b_ssr = s5_b_ssr + [sub5btr1gp[i][2][0][0][0][0][0]]\n",
    "    s5_b_ssl = s5_b_ssl + [sub5btr1gp[i][2][0][0][1][0][0]]\n",
    "    s5_b_ds1 = s5_b_ds1 + [sub5btr1gp[i][2][0][0][2][0][0]]\n",
    "    s5_b_ds2 = s5_b_ds2 + [sub5btr1gp[i][2][0][0][3][0][0]]\n",
    "    s5_b_sll = s5_b_sll + [sub5btr1gp[i][1][0][0][0][0][0]]\n",
    "    s5_b_swl = s5_b_swl + [sub5btr1gp[i][1][0][0][1][0][0]]\n",
    "    s5_b_slr = s5_b_slr + [sub5btr1gp[i][1][0][0][2][0][0]]\n",
    "    s5_b_swr = s5_b_swr + [sub5btr1gp[i][1][0][0][3][0][0]]\n",
    "    s5_b_mos = s5_b_mos + [[sub5btr1gp[i][0][0][0][0][0]]]#[0]]]\n",
    "    s5_b_mosmll = s5_b_mosmll + [sub5btr1gp[i][0][0][0][1][0][0]]\n",
    "    s5_b_mosapl = s5_b_mosapl + [sub5btr1gp[i][0][0][0][2][0][0]]\n",
    "    s5_b_mosmlr = s5_b_mosmlr + [sub5btr1gp[i][0][0][0][3][0][0]] \n",
    "    s5_b_mosapr = s5_b_mosapr + [sub5btr1gp[i][0][0][0][4][0][0]]\n",
    "    \n",
    "for i in range(sub5btr2gp.shape[0]):\n",
    "    s5_b_ssr = s5_b_ssr + [sub5btr2gp[i][2][0][0][0][0][0]]\n",
    "    s5_b_ssl = s5_b_ssl + [sub5btr2gp[i][2][0][0][1][0][0]]\n",
    "    s5_b_ds1 = s5_b_ds1 + [sub5btr2gp[i][2][0][0][2][0][0]]\n",
    "    s5_b_ds2 = s5_b_ds2 + [sub5btr2gp[i][2][0][0][3][0][0]]\n",
    "    s5_b_sll = s5_b_sll + [sub5btr2gp[i][1][0][0][0][0][0]]\n",
    "    s5_b_swl = s5_b_swl + [sub5btr2gp[i][1][0][0][1][0][0]]\n",
    "    s5_b_slr = s5_b_slr + [sub5btr2gp[i][1][0][0][2][0][0]]\n",
    "    s5_b_swr = s5_b_swr + [sub5btr2gp[i][1][0][0][3][0][0]]\n",
    "    s5_b_mos = s5_b_mos + [[sub5btr2gp[i][0][0][0][0][0]]]#[0]]]\n",
    "    s5_b_mosmll = s5_b_mosmll + [sub5btr2gp[i][0][0][0][1][0][0]]\n",
    "    s5_b_mosapl = s5_b_mosapl + [sub5btr2gp[i][0][0][0][2][0][0]]\n",
    "    s5_b_mosmlr = s5_b_mosmlr + [sub5btr2gp[i][0][0][0][3][0][0]] \n",
    "    s5_b_mosapr = s5_b_mosapr + [sub5btr2gp[i][0][0][0][4][0][0]]\n",
    "    \n",
    "for i in range(sub5btr3gp.shape[0]):\n",
    "    s5_b_ssr = s5_b_ssr + [sub5btr3gp[i][2][0][0][0][0][0]]\n",
    "    s5_b_ssl = s5_b_ssl + [sub5btr3gp[i][2][0][0][1][0][0]]\n",
    "    s5_b_ds1 = s5_b_ds1 + [sub5btr3gp[i][2][0][0][2][0][0]]\n",
    "    s5_b_ds2 = s5_b_ds2 + [sub5btr3gp[i][2][0][0][3][0][0]]\n",
    "    s5_b_sll = s5_b_sll + [sub5btr3gp[i][1][0][0][0][0][0]]\n",
    "    s5_b_swl = s5_b_swl + [sub5btr3gp[i][1][0][0][1][0][0]]\n",
    "    s5_b_slr = s5_b_slr + [sub5btr3gp[i][1][0][0][2][0][0]]\n",
    "    s5_b_swr = s5_b_swr + [sub5btr3gp[i][1][0][0][3][0][0]]\n",
    "    s5_b_mos = s5_b_mos + [[sub5btr3gp[i][0][0][0][0][0]]]#[0]]]\n",
    "    s5_b_mosmll = s5_b_mosmll + [sub5btr3gp[i][0][0][0][1][0][0]]\n",
    "    s5_b_mosapl = s5_b_mosapl + [sub5btr3gp[i][0][0][0][2][0][0]]\n",
    "    s5_b_mosmlr = s5_b_mosmlr + [sub5btr3gp[i][0][0][0][3][0][0]] \n",
    "    s5_b_mosapr = s5_b_mosapr + [sub5btr3gp[i][0][0][0][4][0][0]]"
   ]
  },
  {
   "cell_type": "code",
   "execution_count": 8,
   "metadata": {},
   "outputs": [],
   "source": [
    "s5_t_ssr = []\n",
    "s5_t_ssl = []\n",
    "s5_t_ds1 = []\n",
    "s5_t_ds2 = []\n",
    "s5_t_sll = []\n",
    "s5_t_swl = []\n",
    "s5_t_slr = []\n",
    "s5_t_swr = []\n",
    "s5_t_mos = []\n",
    "s5_t_mosmll = []\n",
    "s5_t_mosapl = []\n",
    "s5_t_mosmlr = []\n",
    "s5_t_mosapr = []\n",
    "\n",
    "\n",
    "for i in range(sub5ttr1gp.shape[0]):\n",
    "    s5_t_ssr = s5_t_ssr + [sub5ttr1gp[i][2][0][0][0][0][0]]\n",
    "    s5_t_ssl = s5_t_ssl + [sub5ttr1gp[i][2][0][0][1][0][0]]\n",
    "    s5_t_ds1 = s5_t_ds1 + [sub5ttr1gp[i][2][0][0][2][0][0]]\n",
    "    s5_t_ds2 = s5_t_ds2 + [sub5ttr1gp[i][2][0][0][3][0][0]]\n",
    "    s5_t_sll = s5_t_sll + [sub5ttr1gp[i][1][0][0][0][0][0]]\n",
    "    s5_t_swl = s5_t_swl + [sub5ttr1gp[i][1][0][0][1][0][0]]\n",
    "    s5_t_slr = s5_t_slr + [sub5ttr1gp[i][1][0][0][2][0][0]]\n",
    "    s5_t_swr = s5_t_swr + [sub5ttr1gp[i][1][0][0][3][0][0]]\n",
    "    s5_t_mos = s5_t_mos + [[sub5ttr1gp[i][0][0][0][0][0]]]#[0]]]\n",
    "    s5_t_mosmll = s5_t_mosmll + [sub5ttr1gp[i][0][0][0][1][0][0]]\n",
    "    s5_t_mosapl = s5_t_mosapl + [sub5ttr1gp[i][0][0][0][2][0][0]]\n",
    "    s5_t_mosmlr = s5_t_mosmlr + [sub5ttr1gp[i][0][0][0][3][0][0]] \n",
    "    s5_t_mosapr = s5_t_mosapr + [sub5ttr1gp[i][0][0][0][4][0][0]]\n",
    "    \n",
    "for i in range(sub5ttr2gp.shape[0]):\n",
    "    s5_t_ssr = s5_t_ssr + [sub5ttr2gp[i][2][0][0][0][0][0]]\n",
    "    s5_t_ssl = s5_t_ssl + [sub5ttr2gp[i][2][0][0][1][0][0]]\n",
    "    s5_t_ds1 = s5_t_ds1 + [sub5ttr2gp[i][2][0][0][2][0][0]]\n",
    "    s5_t_ds2 = s5_t_ds2 + [sub5ttr2gp[i][2][0][0][3][0][0]]\n",
    "    s5_t_sll = s5_t_sll + [sub5ttr2gp[i][1][0][0][0][0][0]]\n",
    "    s5_t_swl = s5_t_swl + [sub5ttr2gp[i][1][0][0][1][0][0]]\n",
    "    s5_t_slr = s5_t_slr + [sub5ttr2gp[i][1][0][0][2][0][0]]\n",
    "    s5_t_swr = s5_t_swr + [sub5ttr2gp[i][1][0][0][3][0][0]]\n",
    "    s5_t_mos = s5_t_mos + [[sub5ttr2gp[i][0][0][0][0][0]]]#[0]]]\n",
    "    s5_t_mosmll = s5_t_mosmll + [sub5ttr2gp[i][0][0][0][1][0][0]]\n",
    "    s5_t_mosapl = s5_t_mosapl + [sub5ttr2gp[i][0][0][0][2][0][0]]\n",
    "    s5_t_mosmlr = s5_t_mosmlr + [sub5ttr2gp[i][0][0][0][3][0][0]] \n",
    "    s5_t_mosapr = s5_t_mosapr + [sub5ttr2gp[i][0][0][0][4][0][0]]\n",
    "    \n",
    "for i in range(sub5ttr3gp.shape[0]):\n",
    "    s5_t_ssr = s5_t_ssr + [sub5ttr3gp[i][2][0][0][0][0][0]]\n",
    "    s5_t_ssl = s5_t_ssl + [sub5ttr3gp[i][2][0][0][1][0][0]]\n",
    "    s5_t_ds1 = s5_t_ds1 + [sub5ttr3gp[i][2][0][0][2][0][0]]\n",
    "    s5_t_ds2 = s5_t_ds2 + [sub5ttr3gp[i][2][0][0][3][0][0]]\n",
    "    s5_t_sll = s5_t_sll + [sub5ttr3gp[i][1][0][0][0][0][0]]\n",
    "    s5_t_swl = s5_t_swl + [sub5ttr3gp[i][1][0][0][1][0][0]]\n",
    "    s5_t_slr = s5_t_slr + [sub5ttr3gp[i][1][0][0][2][0][0]]\n",
    "    s5_t_swr = s5_t_swr + [sub5ttr3gp[i][1][0][0][3][0][0]]\n",
    "    s5_t_mos = s5_t_mos + [[sub5ttr3gp[i][0][0][0][0][0]]]#[0]]]\n",
    "    s5_t_mosmll = s5_t_mosmll + [sub5ttr3gp[i][0][0][0][1][0][0]]\n",
    "    s5_t_mosapl = s5_t_mosapl + [sub5ttr3gp[i][0][0][0][2][0][0]]\n",
    "    s5_t_mosmlr = s5_t_mosmlr + [sub5ttr3gp[i][0][0][0][3][0][0]] \n",
    "    s5_t_mosapr = s5_t_mosapr + [sub5ttr3gp[i][0][0][0][4][0][0]]"
   ]
  },
  {
   "cell_type": "code",
   "execution_count": 9,
   "metadata": {},
   "outputs": [],
   "source": [
    "s5b_features = np.transpose(np.array(s5_b_ssr))\n",
    "s5b_features = s5b_features.reshape((s5b_features.shape[0],1))\n",
    "s5b_features = np.append(s5b_features,np.transpose(np.array([s5_b_ssl])), axis = 1)\n",
    "s5b_features = np.append(s5b_features,np.transpose(np.array([s5_b_ds1])), axis = 1)\n",
    "s5b_features = np.append(s5b_features,np.transpose(np.array([s5_b_ds2])), axis = 1)\n",
    "s5b_features = np.append(s5b_features,np.transpose(np.array([s5_b_sll])), axis = 1)\n",
    "s5b_features = np.append(s5b_features,np.transpose(np.array([s5_b_swl])), axis = 1)\n",
    "s5b_features = np.append(s5b_features,np.transpose(np.array([s5_b_slr])), axis = 1)\n",
    "s5b_features = np.append(s5b_features,np.transpose(np.array([s5_b_swr])), axis = 1)\n",
    "s5b_features = np.append(s5b_features,np.transpose(np.array([s5_b_mosmll])), axis = 1)\n",
    "s5b_features = np.append(s5b_features,np.transpose(np.array([s5_b_mosapl])), axis = 1)\n",
    "s5b_features = np.append(s5b_features,np.transpose(np.array([s5_b_mosmlr])), axis = 1)\n",
    "s5b_features = np.append(s5b_features,np.transpose(np.array([s5_b_mosapr])), axis = 1)\n",
    "s5b_features = np.append(s5b_features,np.transpose([s5_b_mos])[0][0], axis = 1)\n",
    "s5b_features = np.append(s5b_features,np.transpose([s5_b_mos])[1][0], axis = 1)\n",
    "s5b_features = np.append(s5b_features,np.transpose([s5_b_mos])[2][0], axis = 1)\n",
    "s5b_features = np.append(s5b_features,np.transpose([s5_b_mos])[3][0], axis = 1)\n",
    "s5b_features = np.append(s5b_features,np.transpose([s5_b_mos])[4][0], axis = 1)\n",
    "s5b_features = np.append(s5b_features,np.transpose([s5_b_mos])[5][0], axis = 1)\n",
    "s5b_features = np.append(s5b_features,np.transpose([s5_b_mos])[6][0], axis = 1)\n",
    "s5b_features = np.append(s5b_features,np.transpose([s5_b_mos])[7][0], axis = 1)\n",
    "s5b_features = np.append(s5b_features,np.transpose([s5_b_mos])[8][0], axis = 1)\n",
    "s5b_features = np.append(s5b_features,np.transpose([s5_b_mos])[9][0], axis = 1)\n",
    "\n",
    "s5b_y = np.zeros(s5b_features.shape[0])"
   ]
  },
  {
   "cell_type": "code",
   "execution_count": 10,
   "metadata": {},
   "outputs": [],
   "source": [
    "s5t_features = np.transpose(np.array(s5_t_ssr))\n",
    "s5t_features = s5t_features.reshape((s5t_features.shape[0],1))\n",
    "s5t_features = np.append(s5t_features,np.transpose(np.array([s5_t_ssl])), axis = 1)\n",
    "s5t_features = np.append(s5t_features,np.transpose(np.array([s5_t_ds1])), axis = 1)\n",
    "s5t_features = np.append(s5t_features,np.transpose(np.array([s5_t_ds2])), axis = 1)\n",
    "s5t_features = np.append(s5t_features,np.transpose(np.array([s5_t_sll])), axis = 1)\n",
    "s5t_features = np.append(s5t_features,np.transpose(np.array([s5_t_swl])), axis = 1)\n",
    "s5t_features = np.append(s5t_features,np.transpose(np.array([s5_t_slr])), axis = 1)\n",
    "s5t_features = np.append(s5t_features,np.transpose(np.array([s5_t_swr])), axis = 1)\n",
    "s5t_features = np.append(s5t_features,np.transpose(np.array([s5_t_mosmll])), axis = 1)\n",
    "s5t_features = np.append(s5t_features,np.transpose(np.array([s5_t_mosapl])), axis = 1)\n",
    "s5t_features = np.append(s5t_features,np.transpose(np.array([s5_t_mosmlr])), axis = 1)\n",
    "s5t_features = np.append(s5t_features,np.transpose(np.array([s5_t_mosapr])), axis = 1)\n",
    "s5t_features = np.append(s5t_features,np.transpose([s5_t_mos])[0][0], axis = 1)\n",
    "s5t_features = np.append(s5t_features,np.transpose([s5_t_mos])[1][0], axis = 1)\n",
    "s5t_features = np.append(s5t_features,np.transpose([s5_t_mos])[2][0], axis = 1)\n",
    "s5t_features = np.append(s5t_features,np.transpose([s5_t_mos])[3][0], axis = 1)\n",
    "s5t_features = np.append(s5t_features,np.transpose([s5_t_mos])[4][0], axis = 1)\n",
    "s5t_features = np.append(s5t_features,np.transpose([s5_t_mos])[5][0], axis = 1)\n",
    "s5t_features = np.append(s5t_features,np.transpose([s5_t_mos])[6][0], axis = 1)\n",
    "s5t_features = np.append(s5t_features,np.transpose([s5_t_mos])[7][0], axis = 1)\n",
    "s5t_features = np.append(s5t_features,np.transpose([s5_t_mos])[8][0], axis = 1)\n",
    "s5t_features = np.append(s5t_features,np.transpose([s5_t_mos])[9][0], axis = 1)\n",
    "\n",
    "s5t_y = np.zeros(s5t_features.shape[0]) + 1.0"
   ]
  },
  {
   "cell_type": "code",
   "execution_count": 11,
   "metadata": {},
   "outputs": [],
   "source": [
    "s5_features = np.concatenate((s5b_features,s5t_features))\n",
    "s5_y = np.append(s5b_y,s5t_y)"
   ]
  },
  {
   "cell_type": "code",
   "execution_count": 12,
   "metadata": {},
   "outputs": [],
   "source": [
    "s3b_features = np.transpose(np.array(s3_b_ssr))\n",
    "s3b_features = s3b_features.reshape((s3b_features.shape[0],1))\n",
    "s3b_features = np.append(s3b_features,np.transpose(np.array([s3_b_ssl])), axis = 1)\n",
    "s3b_features = np.append(s3b_features,np.transpose(np.array([s3_b_ds1])), axis = 1)\n",
    "s3b_features = np.append(s3b_features,np.transpose(np.array([s3_b_ds2])), axis = 1)\n",
    "s3b_features = np.append(s3b_features,np.transpose(np.array([s3_b_sll])), axis = 1)\n",
    "s3b_features = np.append(s3b_features,np.transpose(np.array([s3_b_swl])), axis = 1)\n",
    "s3b_features = np.append(s3b_features,np.transpose(np.array([s3_b_slr])), axis = 1)\n",
    "s3b_features = np.append(s3b_features,np.transpose(np.array([s3_b_swr])), axis = 1)\n",
    "s3b_features = np.append(s3b_features,np.transpose(np.array([s3_b_mosmll])), axis = 1)\n",
    "s3b_features = np.append(s3b_features,np.transpose(np.array([s3_b_mosapl])), axis = 1)\n",
    "s3b_features = np.append(s3b_features,np.transpose(np.array([s3_b_mosmlr])), axis = 1)\n",
    "s3b_features = np.append(s3b_features,np.transpose(np.array([s3_b_mosapr])), axis = 1)\n",
    "s3b_features = np.append(s3b_features,np.transpose([s3_b_mos])[0][0], axis = 1)\n",
    "s3b_features = np.append(s3b_features,np.transpose([s3_b_mos])[1][0], axis = 1)\n",
    "s3b_features = np.append(s3b_features,np.transpose([s3_b_mos])[2][0], axis = 1)\n",
    "s3b_features = np.append(s3b_features,np.transpose([s3_b_mos])[3][0], axis = 1)\n",
    "s3b_features = np.append(s3b_features,np.transpose([s3_b_mos])[4][0], axis = 1)\n",
    "s3b_features = np.append(s3b_features,np.transpose([s3_b_mos])[5][0], axis = 1)\n",
    "s3b_features = np.append(s3b_features,np.transpose([s3_b_mos])[6][0], axis = 1)\n",
    "s3b_features = np.append(s3b_features,np.transpose([s3_b_mos])[7][0], axis = 1)\n",
    "s3b_features = np.append(s3b_features,np.transpose([s3_b_mos])[8][0], axis = 1)\n",
    "s3b_features = np.append(s3b_features,np.transpose([s3_b_mos])[9][0], axis = 1)\n",
    "\n",
    "s3b_y = np.zeros(s3b_features.shape[0])"
   ]
  },
  {
   "cell_type": "code",
   "execution_count": 13,
   "metadata": {},
   "outputs": [],
   "source": [
    "s3t_features = np.transpose(np.array(s3_t_ssr))\n",
    "s3t_features = s3t_features.reshape((s3t_features.shape[0],1))\n",
    "s3t_features = np.append(s3t_features,np.transpose(np.array([s3_t_ssl])), axis = 1)\n",
    "s3t_features = np.append(s3t_features,np.transpose(np.array([s3_t_ds1])), axis = 1)\n",
    "s3t_features = np.append(s3t_features,np.transpose(np.array([s3_t_ds2])), axis = 1)\n",
    "s3t_features = np.append(s3t_features,np.transpose(np.array([s3_t_sll])), axis = 1)\n",
    "s3t_features = np.append(s3t_features,np.transpose(np.array([s3_t_swl])), axis = 1)\n",
    "s3t_features = np.append(s3t_features,np.transpose(np.array([s3_t_slr])), axis = 1)\n",
    "s3t_features = np.append(s3t_features,np.transpose(np.array([s3_t_swr])), axis = 1)\n",
    "s3t_features = np.append(s3t_features,np.transpose(np.array([s3_t_mosmll])), axis = 1)\n",
    "s3t_features = np.append(s3t_features,np.transpose(np.array([s3_t_mosapl])), axis = 1)\n",
    "s3t_features = np.append(s3t_features,np.transpose(np.array([s3_t_mosmlr])), axis = 1)\n",
    "s3t_features = np.append(s3t_features,np.transpose(np.array([s3_t_mosapr])), axis = 1)\n",
    "s3t_features = np.append(s3t_features,np.transpose([s3_t_mos])[0][0], axis = 1)\n",
    "s3t_features = np.append(s3t_features,np.transpose([s3_t_mos])[1][0], axis = 1)\n",
    "s3t_features = np.append(s3t_features,np.transpose([s3_t_mos])[2][0], axis = 1)\n",
    "s3t_features = np.append(s3t_features,np.transpose([s3_t_mos])[3][0], axis = 1)\n",
    "s3t_features = np.append(s3t_features,np.transpose([s3_t_mos])[4][0], axis = 1)\n",
    "s3t_features = np.append(s3t_features,np.transpose([s3_t_mos])[5][0], axis = 1)\n",
    "s3t_features = np.append(s3t_features,np.transpose([s3_t_mos])[6][0], axis = 1)\n",
    "s3t_features = np.append(s3t_features,np.transpose([s3_t_mos])[7][0], axis = 1)\n",
    "s3t_features = np.append(s3t_features,np.transpose([s3_t_mos])[8][0], axis = 1)\n",
    "s3t_features = np.append(s3t_features,np.transpose([s3_t_mos])[9][0], axis = 1)\n",
    "\n",
    "s3t_y = np.zeros(s3t_features.shape[0]) + 1.0"
   ]
  },
  {
   "cell_type": "code",
   "execution_count": 14,
   "metadata": {},
   "outputs": [],
   "source": [
    "s3_features = np.concatenate((s3b_features,s3t_features))\n",
    "s3_y = np.append(s3b_y,s3t_y)"
   ]
  },
  {
   "cell_type": "code",
   "execution_count": 15,
   "metadata": {},
   "outputs": [],
   "source": [
    "s4b_features = np.transpose(np.array(s4_b_ssr))\n",
    "s4b_features = s4b_features.reshape((s4b_features.shape[0],1))\n",
    "s4b_features = np.append(s4b_features,np.transpose(np.array([s4_b_ssl])), axis = 1)\n",
    "s4b_features = np.append(s4b_features,np.transpose(np.array([s4_b_ds1])), axis = 1)\n",
    "s4b_features = np.append(s4b_features,np.transpose(np.array([s4_b_ds2])), axis = 1)\n",
    "s4b_features = np.append(s4b_features,np.transpose(np.array([s4_b_sll])), axis = 1)\n",
    "s4b_features = np.append(s4b_features,np.transpose(np.array([s4_b_swl])), axis = 1)\n",
    "s4b_features = np.append(s4b_features,np.transpose(np.array([s4_b_slr])), axis = 1)\n",
    "s4b_features = np.append(s4b_features,np.transpose(np.array([s4_b_swr])), axis = 1)\n",
    "s4b_features = np.append(s4b_features,np.transpose(np.array([s4_b_mosmll])), axis = 1)\n",
    "s4b_features = np.append(s4b_features,np.transpose(np.array([s4_b_mosapl])), axis = 1)\n",
    "s4b_features = np.append(s4b_features,np.transpose(np.array([s4_b_mosmlr])), axis = 1)\n",
    "s4b_features = np.append(s4b_features,np.transpose(np.array([s4_b_mosapr])), axis = 1)\n",
    "s4b_features = np.append(s4b_features,np.transpose([s4_b_mos])[0][0], axis = 1)\n",
    "s4b_features = np.append(s4b_features,np.transpose([s4_b_mos])[1][0], axis = 1)\n",
    "s4b_features = np.append(s4b_features,np.transpose([s4_b_mos])[2][0], axis = 1)\n",
    "s4b_features = np.append(s4b_features,np.transpose([s4_b_mos])[3][0], axis = 1)\n",
    "s4b_features = np.append(s4b_features,np.transpose([s4_b_mos])[4][0], axis = 1)\n",
    "s4b_features = np.append(s4b_features,np.transpose([s4_b_mos])[5][0], axis = 1)\n",
    "s4b_features = np.append(s4b_features,np.transpose([s4_b_mos])[6][0], axis = 1)\n",
    "s4b_features = np.append(s4b_features,np.transpose([s4_b_mos])[7][0], axis = 1)\n",
    "s4b_features = np.append(s4b_features,np.transpose([s4_b_mos])[8][0], axis = 1)\n",
    "s4b_features = np.append(s4b_features,np.transpose([s4_b_mos])[9][0], axis = 1)\n",
    "\n",
    "s4b_y = np.zeros(s4b_features.shape[0])"
   ]
  },
  {
   "cell_type": "code",
   "execution_count": 16,
   "metadata": {},
   "outputs": [],
   "source": [
    "s4t_features = np.transpose(np.array(s4_t_ssr))\n",
    "s4t_features = s4t_features.reshape((s4t_features.shape[0],1))\n",
    "s4t_features = np.append(s4t_features,np.transpose(np.array([s4_t_ssl])), axis = 1)\n",
    "s4t_features = np.append(s4t_features,np.transpose(np.array([s4_t_ds1])), axis = 1)\n",
    "s4t_features = np.append(s4t_features,np.transpose(np.array([s4_t_ds2])), axis = 1)\n",
    "s4t_features = np.append(s4t_features,np.transpose(np.array([s4_t_sll])), axis = 1)\n",
    "s4t_features = np.append(s4t_features,np.transpose(np.array([s4_t_swl])), axis = 1)\n",
    "s4t_features = np.append(s4t_features,np.transpose(np.array([s4_t_slr])), axis = 1)\n",
    "s4t_features = np.append(s4t_features,np.transpose(np.array([s4_t_swr])), axis = 1)\n",
    "s4t_features = np.append(s4t_features,np.transpose(np.array([s4_t_mosmll])), axis = 1)\n",
    "s4t_features = np.append(s4t_features,np.transpose(np.array([s4_t_mosapl])), axis = 1)\n",
    "s4t_features = np.append(s4t_features,np.transpose(np.array([s4_t_mosmlr])), axis = 1)\n",
    "s4t_features = np.append(s4t_features,np.transpose(np.array([s4_t_mosapr])), axis = 1)\n",
    "s4t_features = np.append(s4t_features,np.transpose([s4_t_mos])[0][0], axis = 1)\n",
    "s4t_features = np.append(s4t_features,np.transpose([s4_t_mos])[1][0], axis = 1)\n",
    "s4t_features = np.append(s4t_features,np.transpose([s4_t_mos])[2][0], axis = 1)\n",
    "s4t_features = np.append(s4t_features,np.transpose([s4_t_mos])[3][0], axis = 1)\n",
    "s4t_features = np.append(s4t_features,np.transpose([s4_t_mos])[4][0], axis = 1)\n",
    "s4t_features = np.append(s4t_features,np.transpose([s4_t_mos])[5][0], axis = 1)\n",
    "s4t_features = np.append(s4t_features,np.transpose([s4_t_mos])[6][0], axis = 1)\n",
    "s4t_features = np.append(s4t_features,np.transpose([s4_t_mos])[7][0], axis = 1)\n",
    "s4t_features = np.append(s4t_features,np.transpose([s4_t_mos])[8][0], axis = 1)\n",
    "s4t_features = np.append(s4t_features,np.transpose([s4_t_mos])[9][0], axis = 1)\n",
    "\n",
    "s4t_y = np.zeros(s4t_features.shape[0]) + 1.0 "
   ]
  },
  {
   "cell_type": "code",
   "execution_count": 17,
   "metadata": {},
   "outputs": [],
   "source": [
    "s4_features = np.concatenate((s4b_features,s4t_features))\n",
    "s4_y = np.append(s4b_y,s4t_y)"
   ]
  },
  {
   "cell_type": "code",
   "execution_count": 18,
   "metadata": {},
   "outputs": [],
   "source": [
    "clfs3 = MLPClassifier(hidden_layer_sizes=(100, ), activation='relu', solver='lbfgs', alpha=0.0001, batch_size='auto', \n",
    "                    learning_rate='constant', learning_rate_init=0.001, power_t=0.5, max_iter=200, shuffle=True, \n",
    "                    random_state=None, tol=0.0001, verbose=True, warm_start=False, momentum=0.9, nesterovs_momentum=True, \n",
    "                    early_stopping=False, validation_fraction=0.1, beta_1=0.9, beta_2=0.999, epsilon=1e-08)"
   ]
  },
  {
   "cell_type": "code",
   "execution_count": 19,
   "metadata": {
    "scrolled": true
   },
   "outputs": [
    {
     "name": "stdout",
     "output_type": "stream",
     "text": [
      "s3 score: 1.000000\n"
     ]
    }
   ],
   "source": [
    "clfs3.fit(s3_features, s3_y)\n",
    "print(\"s3 score: %f\" % clfs3.score(s3_features, s3_y))"
   ]
  },
  {
   "cell_type": "code",
   "execution_count": 20,
   "metadata": {},
   "outputs": [
    {
     "data": {
      "text/plain": [
       "array([-0.08533285,  0.17891826,  0.01482706, -0.03156386, -0.11240496,\n",
       "        0.20246505, -0.11009481, -0.0555806 ,  0.05981488, -0.03631746,\n",
       "       -0.09977369,  0.06135672, -0.00674566, -0.0345521 ,  0.15126794,\n",
       "        0.1000637 , -0.04675682,  0.10233687, -0.00775509,  0.03947174,\n",
       "       -0.02676806,  0.06838508,  0.20260639,  0.18294112, -0.0732578 ,\n",
       "        0.03437627, -0.02880899, -0.09227047, -0.18110051,  0.15931201,\n",
       "       -0.01052477,  0.17677988,  0.14752416,  0.08441255,  0.01639622,\n",
       "       -0.00955156,  0.09894127, -0.17180917,  0.01067518, -0.17573652,\n",
       "       -0.13302917,  0.16571453,  0.02510687,  0.03773928, -0.08380073,\n",
       "       -0.15992297,  0.04839658,  0.07612233,  0.11315715, -0.05810226,\n",
       "        0.00418891, -0.05235951,  0.16378594, -0.04157447,  0.08210134,\n",
       "       -0.04189906, -0.02400675, -0.04325232, -0.06345594,  0.17073943,\n",
       "        0.07200832, -0.21270765, -0.12827962,  0.16487019,  0.06917802,\n",
       "       -0.11267465, -0.17459167,  0.21785002,  0.21018181,  0.02711866,\n",
       "       -0.18726192,  0.19623121, -0.08718973, -0.11828691,  0.00834626,\n",
       "        0.07613224,  0.15139231,  0.03316086,  0.19009636, -0.06727309,\n",
       "       -0.20871512, -0.08354251, -0.12404151, -0.14768647,  0.07563204,\n",
       "        0.094241  ,  0.01372563, -0.18199979, -0.0403133 ,  0.15167749,\n",
       "       -0.02313529, -0.20279318,  0.0345372 , -0.13695319,  0.06149897,\n",
       "        0.21929778, -0.22104625, -0.2198318 , -0.04988483, -0.21038938])"
      ]
     },
     "execution_count": 20,
     "metadata": {},
     "output_type": "execute_result"
    }
   ],
   "source": [
    "clfs3.coefs_[0][0]"
   ]
  },
  {
   "cell_type": "code",
   "execution_count": 21,
   "metadata": {},
   "outputs": [],
   "source": [
    "clfs4 = MLPClassifier(hidden_layer_sizes=(100, ), activation='relu', solver='lbfgs', alpha=0.0001, batch_size='auto', \n",
    "                    learning_rate='constant', learning_rate_init=0.001, power_t=0.5, max_iter=200, shuffle=True, \n",
    "                    random_state=None, tol=0.0001, verbose=True, warm_start=False, momentum=0.9, nesterovs_momentum=True, \n",
    "                    early_stopping=False, validation_fraction=0.1, beta_1=0.9, beta_2=0.999, epsilon=1e-08)"
   ]
  },
  {
   "cell_type": "code",
   "execution_count": 22,
   "metadata": {},
   "outputs": [
    {
     "name": "stdout",
     "output_type": "stream",
     "text": [
      "s4 score: 1.000000\n"
     ]
    }
   ],
   "source": [
    "clfs4.fit(s4_features, s4_y)\n",
    "print(\"s4 score: %f\" % clfs4.score(s4_features, s4_y))"
   ]
  },
  {
   "cell_type": "code",
   "execution_count": 23,
   "metadata": {},
   "outputs": [],
   "source": [
    "clfs5 = MLPClassifier(hidden_layer_sizes=(100, ), activation='relu', solver='lbfgs', alpha=0.0001, batch_size='auto', \n",
    "                    learning_rate='constant', learning_rate_init=0.001, power_t=0.5, max_iter=200, shuffle=True, \n",
    "                    random_state=None, tol=0.0001, verbose=True, warm_start=False, momentum=0.9, nesterovs_momentum=True, \n",
    "                    early_stopping=False, validation_fraction=0.1, beta_1=0.9, beta_2=0.999, epsilon=1e-08)"
   ]
  },
  {
   "cell_type": "code",
   "execution_count": 24,
   "metadata": {},
   "outputs": [
    {
     "name": "stdout",
     "output_type": "stream",
     "text": [
      "s5 score: 1.000000\n"
     ]
    }
   ],
   "source": [
    "clfs5.fit(s5_features, s5_y)\n",
    "print(\"s5 score: %f\" % clfs5.score(s5_features, s5_y))"
   ]
  },
  {
   "cell_type": "code",
   "execution_count": 25,
   "metadata": {},
   "outputs": [],
   "source": [
    "rfs3 = RandomForestClassifier(n_estimators=10, criterion='gini', max_depth=None, min_samples_split=2, min_samples_leaf=1, \n",
    "                       min_weight_fraction_leaf=0.0, max_features='auto', max_leaf_nodes=None, min_impurity_decrease=0.0, \n",
    "                       min_impurity_split=None, bootstrap=True, oob_score=False, n_jobs=1, random_state=None, verbose=1, \n",
    "                       warm_start=False, class_weight=None)"
   ]
  },
  {
   "cell_type": "code",
   "execution_count": 26,
   "metadata": {},
   "outputs": [
    {
     "name": "stdout",
     "output_type": "stream",
     "text": [
      "rfs3 score: 1.000000\n"
     ]
    },
    {
     "name": "stderr",
     "output_type": "stream",
     "text": [
      "[Parallel(n_jobs=1)]: Done  10 out of  10 | elapsed:    0.0s finished\n",
      "[Parallel(n_jobs=1)]: Done  10 out of  10 | elapsed:    0.0s finished\n"
     ]
    }
   ],
   "source": [
    "rfs3.fit(s3_features, s3_y)\n",
    "print(\"rfs3 score: %f\" % rfs3.score(s3_features, s3_y))"
   ]
  },
  {
   "cell_type": "code",
   "execution_count": 27,
   "metadata": {},
   "outputs": [
    {
     "data": {
      "text/plain": [
       "array([0.00718728, 0.01825538, 0.01571623, 0.23174877, 0.17526892,\n",
       "       0.02004558, 0.13244624, 0.01210191, 0.00656336, 0.04726929,\n",
       "       0.00967749, 0.07985807, 0.03341079, 0.00931537, 0.01456162,\n",
       "       0.01923086, 0.01196576, 0.00823757, 0.00989834, 0.00993431,\n",
       "       0.02670531, 0.10060152])"
      ]
     },
     "execution_count": 27,
     "metadata": {},
     "output_type": "execute_result"
    }
   ],
   "source": [
    "rfs3.feature_importances_"
   ]
  },
  {
   "cell_type": "code",
   "execution_count": 28,
   "metadata": {},
   "outputs": [],
   "source": [
    "modelrfs3 = SelectFromModel(rfs3, prefit=True)\n",
    "s3_features_new = modelrfs3.transform(s3_features)"
   ]
  },
  {
   "cell_type": "code",
   "execution_count": 29,
   "metadata": {},
   "outputs": [],
   "source": [
    "s3_feat_imp = np.array([\"\" for i in range(s3_features_new.shape[1])], dtype = \"<U225\")\n",
    "\n",
    "for i in range(s3_features_new.shape[1]):\n",
    "    s3_feat_imp[i] = feat_dict[np.where(s3_features[0]==s3_features_new[0][i])[0][0]]"
   ]
  },
  {
   "cell_type": "code",
   "execution_count": 30,
   "metadata": {},
   "outputs": [
    {
     "data": {
      "text/plain": [
       "array(['Double Stance 2', 'Step Length Left', 'Step Length Right',\n",
       "       'General Margin of Stability just before LTO',\n",
       "       'General Margin of Stability at midpoint of LTO and LHS',\n",
       "       'MOS Anterior-Posterior Right'], dtype='<U225')"
      ]
     },
     "execution_count": 30,
     "metadata": {},
     "output_type": "execute_result"
    }
   ],
   "source": [
    "s3_feat_imp"
   ]
  },
  {
   "cell_type": "code",
   "execution_count": 31,
   "metadata": {},
   "outputs": [],
   "source": [
    "rfs4 = RandomForestClassifier(n_estimators=10, criterion='gini', max_depth=None, min_samples_split=2, min_samples_leaf=1, \n",
    "                       min_weight_fraction_leaf=0.0, max_features='auto', max_leaf_nodes=None, min_impurity_decrease=0.0, \n",
    "                       min_impurity_split=None, bootstrap=True, oob_score=False, n_jobs=1, random_state=None, verbose=1, \n",
    "                       warm_start=False, class_weight=None)"
   ]
  },
  {
   "cell_type": "code",
   "execution_count": 32,
   "metadata": {},
   "outputs": [
    {
     "name": "stdout",
     "output_type": "stream",
     "text": [
      "rfs4 score: 1.000000\n"
     ]
    },
    {
     "name": "stderr",
     "output_type": "stream",
     "text": [
      "[Parallel(n_jobs=1)]: Done  10 out of  10 | elapsed:    0.0s finished\n",
      "[Parallel(n_jobs=1)]: Done  10 out of  10 | elapsed:    0.0s finished\n"
     ]
    }
   ],
   "source": [
    "rfs4.fit(s4_features, s4_y)\n",
    "print(\"rfs4 score: %f\" % rfs4.score(s4_features, s4_y))"
   ]
  },
  {
   "cell_type": "code",
   "execution_count": 33,
   "metadata": {},
   "outputs": [
    {
     "data": {
      "text/plain": [
       "array([0.01303242, 0.02093154, 0.01309364, 0.3415777 , 0.1497765 ,\n",
       "       0.00550325, 0.19713385, 0.00312478, 0.003395  , 0.00682444,\n",
       "       0.03334443, 0.03127183, 0.01642091, 0.0131239 , 0.01823062,\n",
       "       0.04071471, 0.00581262, 0.01019505, 0.02140285, 0.02345159,\n",
       "       0.01128304, 0.02035532])"
      ]
     },
     "execution_count": 33,
     "metadata": {},
     "output_type": "execute_result"
    }
   ],
   "source": [
    "rfs4.feature_importances_"
   ]
  },
  {
   "cell_type": "code",
   "execution_count": 34,
   "metadata": {},
   "outputs": [],
   "source": [
    "modelrfs4 = SelectFromModel(rfs4, prefit=True)\n",
    "s4_features_new = modelrfs4.transform(s4_features)"
   ]
  },
  {
   "cell_type": "code",
   "execution_count": 35,
   "metadata": {},
   "outputs": [],
   "source": [
    "s4_feat_imp = np.array([\"\" for i in range(s4_features_new.shape[1])], dtype = \"<U225\")\n",
    "\n",
    "for i in range(s4_features_new.shape[1]):\n",
    "    s4_feat_imp[i] = feat_dict[np.where(s4_features[0]==s4_features_new[0][i])[0][0]]"
   ]
  },
  {
   "cell_type": "code",
   "execution_count": 36,
   "metadata": {},
   "outputs": [
    {
     "data": {
      "text/plain": [
       "array(['Double Stance 1', 'Step Length Left', 'Step Length Right'],\n",
       "      dtype='<U225')"
      ]
     },
     "execution_count": 36,
     "metadata": {},
     "output_type": "execute_result"
    }
   ],
   "source": [
    "s4_feat_imp"
   ]
  },
  {
   "cell_type": "code",
   "execution_count": 37,
   "metadata": {},
   "outputs": [],
   "source": [
    "rfs5 = RandomForestClassifier(n_estimators=10, criterion='gini', max_depth=None, min_samples_split=2, min_samples_leaf=1, \n",
    "                       min_weight_fraction_leaf=0.0, max_features='auto', max_leaf_nodes=None, min_impurity_decrease=0.0, \n",
    "                       min_impurity_split=None, bootstrap=True, oob_score=False, n_jobs=1, random_state=None, verbose=1, \n",
    "                       warm_start=False, class_weight=None)"
   ]
  },
  {
   "cell_type": "code",
   "execution_count": 38,
   "metadata": {},
   "outputs": [
    {
     "name": "stdout",
     "output_type": "stream",
     "text": [
      "rfs5 score: 0.995146\n"
     ]
    },
    {
     "name": "stderr",
     "output_type": "stream",
     "text": [
      "[Parallel(n_jobs=1)]: Done  10 out of  10 | elapsed:    0.0s finished\n",
      "[Parallel(n_jobs=1)]: Done  10 out of  10 | elapsed:    0.0s finished\n"
     ]
    }
   ],
   "source": [
    "rfs5.fit(s5_features, s5_y)\n",
    "print(\"rfs5 score: %f\" % rfs5.score(s5_features, s5_y))"
   ]
  },
  {
   "cell_type": "code",
   "execution_count": 39,
   "metadata": {},
   "outputs": [
    {
     "data": {
      "text/plain": [
       "array([0.07158828, 0.13399077, 0.06453545, 0.35591352, 0.00942413,\n",
       "       0.00869841, 0.02372858, 0.01109235, 0.02011605, 0.08681079,\n",
       "       0.00367353, 0.02062268, 0.00369608, 0.04262391, 0.01224612,\n",
       "       0.01925625, 0.01294434, 0.0589167 , 0.02710487, 0.0098517 ,\n",
       "       0.00253316, 0.00063233])"
      ]
     },
     "execution_count": 39,
     "metadata": {},
     "output_type": "execute_result"
    }
   ],
   "source": [
    "rfs5.feature_importances_"
   ]
  },
  {
   "cell_type": "code",
   "execution_count": 40,
   "metadata": {},
   "outputs": [],
   "source": [
    "modelrfs5 = SelectFromModel(rfs5, prefit=True)\n",
    "s5_features_new = modelrfs5.transform(s5_features)"
   ]
  },
  {
   "cell_type": "code",
   "execution_count": 41,
   "metadata": {},
   "outputs": [],
   "source": [
    "s5_feat_imp = np.array([\"\" for i in range(s5_features_new.shape[1])], dtype = \"<U225\")\n",
    "\n",
    "for i in range(s5_features_new.shape[1]):\n",
    "    s5_feat_imp[i] = feat_dict[np.where(s5_features[0]==s5_features_new[0][i])[0][0]]"
   ]
  },
  {
   "cell_type": "code",
   "execution_count": 42,
   "metadata": {},
   "outputs": [
    {
     "data": {
      "text/plain": [
       "array(['Single Stance Right', 'Single Stance Left', 'Double Stance 1',\n",
       "       'Double Stance 2', 'General Margin of Stability just before LTO',\n",
       "       'General Margin of Stability just before terminating RHS'],\n",
       "      dtype='<U225')"
      ]
     },
     "execution_count": 42,
     "metadata": {},
     "output_type": "execute_result"
    }
   ],
   "source": [
    "s5_feat_imp"
   ]
  },
  {
   "cell_type": "code",
   "execution_count": null,
   "metadata": {},
   "outputs": [],
   "source": []
  }
 ],
 "metadata": {
  "kernelspec": {
   "display_name": "Python 3",
   "language": "python",
   "name": "python3"
  },
  "language_info": {
   "codemirror_mode": {
    "name": "ipython",
    "version": 3
   },
   "file_extension": ".py",
   "mimetype": "text/x-python",
   "name": "python",
   "nbconvert_exporter": "python",
   "pygments_lexer": "ipython3",
   "version": "3.6.5"
  }
 },
 "nbformat": 4,
 "nbformat_minor": 2
}
