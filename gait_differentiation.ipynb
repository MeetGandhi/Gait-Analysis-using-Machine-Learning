{
 "cells": [
  {
   "cell_type": "code",
   "execution_count": 1,
   "metadata": {},
   "outputs": [],
   "source": [
    "import numpy as np\n",
    "from scipy.io import loadmat\n",
    "from sklearn.feature_selection import SelectFromModel\n",
    "from sklearn.neural_network import MLPClassifier\n",
    "from sklearn.ensemble import RandomForestClassifier\n",
    "\n",
    "x = loadmat('Fulltestingmod.mat')\n",
    "\n",
    "feat_dict = {0:'Single Stance Right', 1:'Single Stance Left', 2:'Double Stance 1', 3:'Double Stance 2', 4:'Step Length Left', \n",
    "             5:'Step Width Left', 6:'Step Length Right', 7:'Step Width Right', \n",
    "             8:'General Margin of Stability just after initiating RHS', 9:'General Margin of Stability just before LTO', \n",
    "             10:'General Margin of Stability just after LTO', 11:'General Margin of Stability at midpoint of LTO and LHS', \n",
    "             12:'General Margin of Stability just before LHS', 13:'General Margin of Stability just after LHS', \n",
    "             14:'General Margin of Stability just before RTO', 15:'General Margin of Stability just after RTO', \n",
    "             16:'General Margin of Stability at midpoint of RTO and terminating RHS',\n",
    "             17:'General Margin of Stability just before terminating RHS', \n",
    "             18:'MOS Medial-Lateral Left', 19:'MOS Anterior-Posterior Left', 20:'MOS Medial-Lateral Right', \n",
    "             21:'MOS Anterior-Posterior Right'}"
   ]
  },
  {
   "cell_type": "code",
   "execution_count": 2,
   "metadata": {},
   "outputs": [],
   "source": [
    "sub = x['sub']\n",
    "sub1 = sub[0][0][0]\n",
    "sub2 = sub[0][1][0]\n",
    "sub3 = sub[0][2][0]\n",
    "sub4 = sub[0][3][0]\n",
    "sub5 = sub[0][4][0]\n",
    "\n",
    "sub3b = sub3[0][0][0]\n",
    "sub4b = sub4[0][0][0]\n",
    "sub5b = sub5[0][0][0]\n",
    "\n",
    "sub3t = sub3[0][1][0]\n",
    "sub4t = sub4[0][1][0]\n",
    "sub5t = sub5[0][1][0]\n",
    "\n",
    "sub3btr1gp = sub3b[0][0][2][0]\n",
    "sub3btr2gp = sub3b[0][1][2][0]\n",
    "sub3btr3gp = sub3b[0][2][2][0]\n",
    "\n",
    "sub4btr1gp = sub4b[0][0][2][0]\n",
    "sub4btr2gp = sub4b[0][1][2][0]\n",
    "sub4btr3gp = sub4b[0][2][2][0]\n",
    "\n",
    "sub5btr1gp = sub5b[0][0][2][0]\n",
    "sub5btr2gp = sub5b[0][1][2][0]\n",
    "sub5btr3gp = sub5b[0][2][2][0]\n",
    "\n",
    "sub3ttr1gp = sub3t[0][0][2][0]\n",
    "sub3ttr2gp = sub3t[0][1][2][0]\n",
    "sub3ttr3gp = sub3t[0][2][2][0]\n",
    "\n",
    "sub4ttr1gp = sub4t[0][0][2][0]\n",
    "sub4ttr2gp = sub4t[0][1][2][0]\n",
    "sub4ttr3gp = sub4t[0][2][2][0]\n",
    "\n",
    "sub5ttr1gp = sub5t[0][0][2][0] \n",
    "sub5ttr2gp = sub5t[0][1][2][0]\n",
    "sub5ttr3gp = sub5t[0][2][2][0]"
   ]
  },
  {
   "cell_type": "code",
   "execution_count": 3,
   "metadata": {
    "scrolled": true
   },
   "outputs": [],
   "source": [
    "s3_b_ssr = []\n",
    "s3_b_ssl = []\n",
    "s3_b_ds1 = []\n",
    "s3_b_ds2 = []\n",
    "s3_b_sll = []\n",
    "s3_b_swl = []\n",
    "s3_b_slr = []\n",
    "s3_b_swr = []\n",
    "s3_b_mos = []\n",
    "s3_b_mosmll = []\n",
    "s3_b_mosapl = []\n",
    "s3_b_mosmlr = []\n",
    "s3_b_mosapr = []\n",
    "\n",
    "\n",
    "for i in range(sub3btr1gp.shape[0]):\n",
    "    s3_b_ssr = s3_b_ssr + [sub3btr1gp[i][2][0][0][0][0][0]]\n",
    "    s3_b_ssl = s3_b_ssl + [sub3btr1gp[i][2][0][0][1][0][0]]\n",
    "    s3_b_ds1 = s3_b_ds1 + [sub3btr1gp[i][2][0][0][2][0][0]]\n",
    "    s3_b_ds2 = s3_b_ds2 + [sub3btr1gp[i][2][0][0][3][0][0]]\n",
    "    s3_b_sll = s3_b_sll + [sub3btr1gp[i][1][0][0][0][0][0]]\n",
    "    s3_b_swl = s3_b_swl + [sub3btr1gp[i][1][0][0][1][0][0]]\n",
    "    s3_b_slr = s3_b_slr + [sub3btr1gp[i][1][0][0][2][0][0]]\n",
    "    s3_b_swr = s3_b_swr + [sub3btr1gp[i][1][0][0][3][0][0]]\n",
    "    s3_b_mos = s3_b_mos + [[sub3btr1gp[i][0][0][0][0][0]]]#[0]]]\n",
    "    s3_b_mosmll = s3_b_mosmll + [sub3btr1gp[i][0][0][0][1][0][0]]\n",
    "    s3_b_mosapl = s3_b_mosapl + [sub3btr1gp[i][0][0][0][2][0][0]]\n",
    "    s3_b_mosmlr = s3_b_mosmlr + [sub3btr1gp[i][0][0][0][3][0][0]] \n",
    "    s3_b_mosapr = s3_b_mosapr + [sub3btr1gp[i][0][0][0][4][0][0]]\n",
    "    \n",
    "for i in range(sub3btr2gp.shape[0]):\n",
    "    s3_b_ssr = s3_b_ssr + [sub3btr2gp[i][2][0][0][0][0][0]]\n",
    "    s3_b_ssl = s3_b_ssl + [sub3btr2gp[i][2][0][0][1][0][0]]\n",
    "    s3_b_ds1 = s3_b_ds1 + [sub3btr2gp[i][2][0][0][2][0][0]]\n",
    "    s3_b_ds2 = s3_b_ds2 + [sub3btr2gp[i][2][0][0][3][0][0]]\n",
    "    s3_b_sll = s3_b_sll + [sub3btr2gp[i][1][0][0][0][0][0]]\n",
    "    s3_b_swl = s3_b_swl + [sub3btr2gp[i][1][0][0][1][0][0]]\n",
    "    s3_b_slr = s3_b_slr + [sub3btr2gp[i][1][0][0][2][0][0]]\n",
    "    s3_b_swr = s3_b_swr + [sub3btr2gp[i][1][0][0][3][0][0]]\n",
    "    s3_b_mos = s3_b_mos + [[sub3btr2gp[i][0][0][0][0][0]]]#[0]]]\n",
    "    s3_b_mosmll = s3_b_mosmll + [sub3btr2gp[i][0][0][0][1][0][0]]\n",
    "    s3_b_mosapl = s3_b_mosapl + [sub3btr2gp[i][0][0][0][2][0][0]]\n",
    "    s3_b_mosmlr = s3_b_mosmlr + [sub3btr2gp[i][0][0][0][3][0][0]] \n",
    "    s3_b_mosapr = s3_b_mosapr + [sub3btr2gp[i][0][0][0][4][0][0]]\n",
    "    \n",
    "for i in range(sub3btr3gp.shape[0]):\n",
    "    s3_b_ssr = s3_b_ssr + [sub3btr3gp[i][2][0][0][0][0][0]]\n",
    "    s3_b_ssl = s3_b_ssl + [sub3btr3gp[i][2][0][0][1][0][0]]\n",
    "    s3_b_ds1 = s3_b_ds1 + [sub3btr3gp[i][2][0][0][2][0][0]]\n",
    "    s3_b_ds2 = s3_b_ds2 + [sub3btr3gp[i][2][0][0][3][0][0]]\n",
    "    s3_b_sll = s3_b_sll + [sub3btr3gp[i][1][0][0][0][0][0]]\n",
    "    s3_b_swl = s3_b_swl + [sub3btr3gp[i][1][0][0][1][0][0]]\n",
    "    s3_b_slr = s3_b_slr + [sub3btr3gp[i][1][0][0][2][0][0]]\n",
    "    s3_b_swr = s3_b_swr + [sub3btr3gp[i][1][0][0][3][0][0]]\n",
    "    s3_b_mos = s3_b_mos + [[sub3btr3gp[i][0][0][0][0][0]]]#[0]]]\n",
    "    s3_b_mosmll = s3_b_mosmll + [sub3btr3gp[i][0][0][0][1][0][0]]\n",
    "    s3_b_mosapl = s3_b_mosapl + [sub3btr3gp[i][0][0][0][2][0][0]]\n",
    "    s3_b_mosmlr = s3_b_mosmlr + [sub3btr3gp[i][0][0][0][3][0][0]] \n",
    "    s3_b_mosapr = s3_b_mosapr + [sub3btr3gp[i][0][0][0][4][0][0]]"
   ]
  },
  {
   "cell_type": "code",
   "execution_count": 4,
   "metadata": {},
   "outputs": [],
   "source": [
    "s3_t_ssr = []\n",
    "s3_t_ssl = []\n",
    "s3_t_ds1 = []\n",
    "s3_t_ds2 = []\n",
    "s3_t_sll = []\n",
    "s3_t_swl = []\n",
    "s3_t_slr = []\n",
    "s3_t_swr = []\n",
    "s3_t_mos = []\n",
    "s3_t_mosmll = []\n",
    "s3_t_mosapl = []\n",
    "s3_t_mosmlr = []\n",
    "s3_t_mosapr = []\n",
    "\n",
    "\n",
    "for i in range(sub3ttr1gp.shape[0]):\n",
    "    s3_t_ssr = s3_t_ssr + [sub3ttr1gp[i][2][0][0][0][0][0]]\n",
    "    s3_t_ssl = s3_t_ssl + [sub3ttr1gp[i][2][0][0][1][0][0]]\n",
    "    s3_t_ds1 = s3_t_ds1 + [sub3ttr1gp[i][2][0][0][2][0][0]]\n",
    "    s3_t_ds2 = s3_t_ds2 + [sub3ttr1gp[i][2][0][0][3][0][0]]\n",
    "    s3_t_sll = s3_t_sll + [sub3ttr1gp[i][1][0][0][0][0][0]]\n",
    "    s3_t_swl = s3_t_swl + [sub3ttr1gp[i][1][0][0][1][0][0]]\n",
    "    s3_t_slr = s3_t_slr + [sub3ttr1gp[i][1][0][0][2][0][0]]\n",
    "    s3_t_swr = s3_t_swr + [sub3ttr1gp[i][1][0][0][3][0][0]]\n",
    "    s3_t_mos = s3_t_mos + [[sub3ttr1gp[i][0][0][0][0][0]]]#[0]]]\n",
    "    s3_t_mosmll = s3_t_mosmll + [sub3ttr1gp[i][0][0][0][1][0][0]]\n",
    "    s3_t_mosapl = s3_t_mosapl + [sub3ttr1gp[i][0][0][0][2][0][0]]\n",
    "    s3_t_mosmlr = s3_t_mosmlr + [sub3ttr1gp[i][0][0][0][3][0][0]] \n",
    "    s3_t_mosapr = s3_t_mosapr + [sub3ttr1gp[i][0][0][0][4][0][0]]\n",
    "    \n",
    "for i in range(sub3ttr2gp.shape[0]):\n",
    "    s3_t_ssr = s3_t_ssr + [sub3ttr2gp[i][2][0][0][0][0][0]]\n",
    "    s3_t_ssl = s3_t_ssl + [sub3ttr2gp[i][2][0][0][1][0][0]]\n",
    "    s3_t_ds1 = s3_t_ds1 + [sub3ttr2gp[i][2][0][0][2][0][0]]\n",
    "    s3_t_ds2 = s3_t_ds2 + [sub3ttr2gp[i][2][0][0][3][0][0]]\n",
    "    s3_t_sll = s3_t_sll + [sub3ttr2gp[i][1][0][0][0][0][0]]\n",
    "    s3_t_swl = s3_t_swl + [sub3ttr2gp[i][1][0][0][1][0][0]]\n",
    "    s3_t_slr = s3_t_slr + [sub3ttr2gp[i][1][0][0][2][0][0]]\n",
    "    s3_t_swr = s3_t_swr + [sub3ttr2gp[i][1][0][0][3][0][0]]\n",
    "    s3_t_mos = s3_t_mos + [[sub3ttr2gp[i][0][0][0][0][0]]]#[0]]]\n",
    "    s3_t_mosmll = s3_t_mosmll + [sub3ttr2gp[i][0][0][0][1][0][0]]\n",
    "    s3_t_mosapl = s3_t_mosapl + [sub3ttr2gp[i][0][0][0][2][0][0]]\n",
    "    s3_t_mosmlr = s3_t_mosmlr + [sub3ttr2gp[i][0][0][0][3][0][0]] \n",
    "    s3_t_mosapr = s3_t_mosapr + [sub3ttr2gp[i][0][0][0][4][0][0]]\n",
    "    \n",
    "for i in range(sub3ttr3gp.shape[0]):\n",
    "    s3_t_ssr = s3_t_ssr + [sub3ttr3gp[i][2][0][0][0][0][0]]\n",
    "    s3_t_ssl = s3_t_ssl + [sub3ttr3gp[i][2][0][0][1][0][0]]\n",
    "    s3_t_ds1 = s3_t_ds1 + [sub3ttr3gp[i][2][0][0][2][0][0]]\n",
    "    s3_t_ds2 = s3_t_ds2 + [sub3ttr3gp[i][2][0][0][3][0][0]]\n",
    "    s3_t_sll = s3_t_sll + [sub3ttr3gp[i][1][0][0][0][0][0]]\n",
    "    s3_t_swl = s3_t_swl + [sub3ttr3gp[i][1][0][0][1][0][0]]\n",
    "    s3_t_slr = s3_t_slr + [sub3ttr3gp[i][1][0][0][2][0][0]]\n",
    "    s3_t_swr = s3_t_swr + [sub3ttr3gp[i][1][0][0][3][0][0]]\n",
    "    s3_t_mos = s3_t_mos + [[sub3ttr3gp[i][0][0][0][0][0]]]#[0]]]\n",
    "    s3_t_mosmll = s3_t_mosmll + [sub3ttr3gp[i][0][0][0][1][0][0]]\n",
    "    s3_t_mosapl = s3_t_mosapl + [sub3ttr3gp[i][0][0][0][2][0][0]]\n",
    "    s3_t_mosmlr = s3_t_mosmlr + [sub3ttr3gp[i][0][0][0][3][0][0]] \n",
    "    s3_t_mosapr = s3_t_mosapr + [sub3ttr3gp[i][0][0][0][4][0][0]]"
   ]
  },
  {
   "cell_type": "code",
   "execution_count": 5,
   "metadata": {},
   "outputs": [],
   "source": [
    "s4_b_ssr = []\n",
    "s4_b_ssl = []\n",
    "s4_b_ds1 = []\n",
    "s4_b_ds2 = []\n",
    "s4_b_sll = []\n",
    "s4_b_swl = []\n",
    "s4_b_slr = []\n",
    "s4_b_swr = []\n",
    "s4_b_mos = []\n",
    "s4_b_mosmll = []\n",
    "s4_b_mosapl = []\n",
    "s4_b_mosmlr = []\n",
    "s4_b_mosapr = []\n",
    "\n",
    "\n",
    "for i in range(sub4btr1gp.shape[0]):\n",
    "    s4_b_ssr = s4_b_ssr + [sub4btr1gp[i][2][0][0][0][0][0]]\n",
    "    s4_b_ssl = s4_b_ssl + [sub4btr1gp[i][2][0][0][1][0][0]]\n",
    "    s4_b_ds1 = s4_b_ds1 + [sub4btr1gp[i][2][0][0][2][0][0]]\n",
    "    s4_b_ds2 = s4_b_ds2 + [sub4btr1gp[i][2][0][0][3][0][0]]\n",
    "    s4_b_sll = s4_b_sll + [sub4btr1gp[i][1][0][0][0][0][0]]\n",
    "    s4_b_swl = s4_b_swl + [sub4btr1gp[i][1][0][0][1][0][0]]\n",
    "    s4_b_slr = s4_b_slr + [sub4btr1gp[i][1][0][0][2][0][0]]\n",
    "    s4_b_swr = s4_b_swr + [sub4btr1gp[i][1][0][0][3][0][0]]\n",
    "    s4_b_mos = s4_b_mos + [[sub4btr1gp[i][0][0][0][0][0]]]#[0]]]\n",
    "    s4_b_mosmll = s4_b_mosmll + [sub4btr1gp[i][0][0][0][1][0][0]]\n",
    "    s4_b_mosapl = s4_b_mosapl + [sub4btr1gp[i][0][0][0][2][0][0]]\n",
    "    s4_b_mosmlr = s4_b_mosmlr + [sub4btr1gp[i][0][0][0][3][0][0]] \n",
    "    s4_b_mosapr = s4_b_mosapr + [sub4btr1gp[i][0][0][0][4][0][0]]\n",
    "    \n",
    "for i in range(sub4btr2gp.shape[0]):\n",
    "    s4_b_ssr = s4_b_ssr + [sub4btr2gp[i][2][0][0][0][0][0]]\n",
    "    s4_b_ssl = s4_b_ssl + [sub4btr2gp[i][2][0][0][1][0][0]]\n",
    "    s4_b_ds1 = s4_b_ds1 + [sub4btr2gp[i][2][0][0][2][0][0]]\n",
    "    s4_b_ds2 = s4_b_ds2 + [sub4btr2gp[i][2][0][0][3][0][0]]\n",
    "    s4_b_sll = s4_b_sll + [sub4btr2gp[i][1][0][0][0][0][0]]\n",
    "    s4_b_swl = s4_b_swl + [sub4btr2gp[i][1][0][0][1][0][0]]\n",
    "    s4_b_slr = s4_b_slr + [sub4btr2gp[i][1][0][0][2][0][0]]\n",
    "    s4_b_swr = s4_b_swr + [sub4btr2gp[i][1][0][0][3][0][0]]\n",
    "    s4_b_mos = s4_b_mos + [[sub4btr2gp[i][0][0][0][0][0]]]#[0]]]\n",
    "    s4_b_mosmll = s4_b_mosmll + [sub4btr2gp[i][0][0][0][1][0][0]]\n",
    "    s4_b_mosapl = s4_b_mosapl + [sub4btr2gp[i][0][0][0][2][0][0]]\n",
    "    s4_b_mosmlr = s4_b_mosmlr + [sub4btr2gp[i][0][0][0][3][0][0]] \n",
    "    s4_b_mosapr = s4_b_mosapr + [sub4btr2gp[i][0][0][0][4][0][0]]\n",
    "    \n",
    "for i in range(sub4btr3gp.shape[0]):\n",
    "    s4_b_ssr = s4_b_ssr + [sub4btr3gp[i][2][0][0][0][0][0]]\n",
    "    s4_b_ssl = s4_b_ssl + [sub4btr3gp[i][2][0][0][1][0][0]]\n",
    "    s4_b_ds1 = s4_b_ds1 + [sub4btr3gp[i][2][0][0][2][0][0]]\n",
    "    s4_b_ds2 = s4_b_ds2 + [sub4btr3gp[i][2][0][0][3][0][0]]\n",
    "    s4_b_sll = s4_b_sll + [sub4btr3gp[i][1][0][0][0][0][0]]\n",
    "    s4_b_swl = s4_b_swl + [sub4btr3gp[i][1][0][0][1][0][0]]\n",
    "    s4_b_slr = s4_b_slr + [sub4btr3gp[i][1][0][0][2][0][0]]\n",
    "    s4_b_swr = s4_b_swr + [sub4btr3gp[i][1][0][0][3][0][0]]\n",
    "    s4_b_mos = s4_b_mos + [[sub4btr3gp[i][0][0][0][0][0]]]#[0]]]\n",
    "    s4_b_mosmll = s4_b_mosmll + [sub4btr3gp[i][0][0][0][1][0][0]]\n",
    "    s4_b_mosapl = s4_b_mosapl + [sub4btr3gp[i][0][0][0][2][0][0]]\n",
    "    s4_b_mosmlr = s4_b_mosmlr + [sub4btr3gp[i][0][0][0][3][0][0]] \n",
    "    s4_b_mosapr = s4_b_mosapr + [sub4btr3gp[i][0][0][0][4][0][0]]"
   ]
  },
  {
   "cell_type": "code",
   "execution_count": 6,
   "metadata": {},
   "outputs": [],
   "source": [
    "s4_t_ssr = []\n",
    "s4_t_ssl = []\n",
    "s4_t_ds1 = []\n",
    "s4_t_ds2 = []\n",
    "s4_t_sll = []\n",
    "s4_t_swl = []\n",
    "s4_t_slr = []\n",
    "s4_t_swr = []\n",
    "s4_t_mos = []\n",
    "s4_t_mosmll = []\n",
    "s4_t_mosapl = []\n",
    "s4_t_mosmlr = []\n",
    "s4_t_mosapr = []\n",
    "\n",
    "\n",
    "for i in range(sub4ttr1gp.shape[0]):\n",
    "    s4_t_ssr = s4_t_ssr + [sub4ttr1gp[i][2][0][0][0][0][0]]\n",
    "    s4_t_ssl = s4_t_ssl + [sub4ttr1gp[i][2][0][0][1][0][0]]\n",
    "    s4_t_ds1 = s4_t_ds1 + [sub4ttr1gp[i][2][0][0][2][0][0]]\n",
    "    s4_t_ds2 = s4_t_ds2 + [sub4ttr1gp[i][2][0][0][3][0][0]]\n",
    "    s4_t_sll = s4_t_sll + [sub4ttr1gp[i][1][0][0][0][0][0]]\n",
    "    s4_t_swl = s4_t_swl + [sub4ttr1gp[i][1][0][0][1][0][0]]\n",
    "    s4_t_slr = s4_t_slr + [sub4ttr1gp[i][1][0][0][2][0][0]]\n",
    "    s4_t_swr = s4_t_swr + [sub4ttr1gp[i][1][0][0][3][0][0]]\n",
    "    s4_t_mos = s4_t_mos + [[sub4ttr1gp[i][0][0][0][0][0]]]#[0]]]\n",
    "    s4_t_mosmll = s4_t_mosmll + [sub4ttr1gp[i][0][0][0][1][0][0]]\n",
    "    s4_t_mosapl = s4_t_mosapl + [sub4ttr1gp[i][0][0][0][2][0][0]]\n",
    "    s4_t_mosmlr = s4_t_mosmlr + [sub4ttr1gp[i][0][0][0][3][0][0]] \n",
    "    s4_t_mosapr = s4_t_mosapr + [sub4ttr1gp[i][0][0][0][4][0][0]]\n",
    "    \n",
    "for i in range(sub4ttr2gp.shape[0]):\n",
    "    s4_t_ssr = s4_t_ssr + [sub4ttr2gp[i][2][0][0][0][0][0]]\n",
    "    s4_t_ssl = s4_t_ssl + [sub4ttr2gp[i][2][0][0][1][0][0]]\n",
    "    s4_t_ds1 = s4_t_ds1 + [sub4ttr2gp[i][2][0][0][2][0][0]]\n",
    "    s4_t_ds2 = s4_t_ds2 + [sub4ttr2gp[i][2][0][0][3][0][0]]\n",
    "    s4_t_sll = s4_t_sll + [sub4ttr2gp[i][1][0][0][0][0][0]]\n",
    "    s4_t_swl = s4_t_swl + [sub4ttr2gp[i][1][0][0][1][0][0]]\n",
    "    s4_t_slr = s4_t_slr + [sub4ttr2gp[i][1][0][0][2][0][0]]\n",
    "    s4_t_swr = s4_t_swr + [sub4ttr2gp[i][1][0][0][3][0][0]]\n",
    "    s4_t_mos = s4_t_mos + [[sub4ttr2gp[i][0][0][0][0][0]]]#[0]]]\n",
    "    s4_t_mosmll = s4_t_mosmll + [sub4ttr2gp[i][0][0][0][1][0][0]]\n",
    "    s4_t_mosapl = s4_t_mosapl + [sub4ttr2gp[i][0][0][0][2][0][0]]\n",
    "    s4_t_mosmlr = s4_t_mosmlr + [sub4ttr2gp[i][0][0][0][3][0][0]] \n",
    "    s4_t_mosapr = s4_t_mosapr + [sub4ttr2gp[i][0][0][0][4][0][0]]\n",
    "    \n",
    "for i in range(sub4ttr3gp.shape[0]):\n",
    "    s4_t_ssr = s4_t_ssr + [sub4ttr3gp[i][2][0][0][0][0][0]]\n",
    "    s4_t_ssl = s4_t_ssl + [sub4ttr3gp[i][2][0][0][1][0][0]]\n",
    "    s4_t_ds1 = s4_t_ds1 + [sub4ttr3gp[i][2][0][0][2][0][0]]\n",
    "    s4_t_ds2 = s4_t_ds2 + [sub4ttr3gp[i][2][0][0][3][0][0]]\n",
    "    s4_t_sll = s4_t_sll + [sub4ttr3gp[i][1][0][0][0][0][0]]\n",
    "    s4_t_swl = s4_t_swl + [sub4ttr3gp[i][1][0][0][1][0][0]]\n",
    "    s4_t_slr = s4_t_slr + [sub4ttr3gp[i][1][0][0][2][0][0]]\n",
    "    s4_t_swr = s4_t_swr + [sub4ttr3gp[i][1][0][0][3][0][0]]\n",
    "    s4_t_mos = s4_t_mos + [[sub4ttr3gp[i][0][0][0][0][0]]]#[0]]]\n",
    "    s4_t_mosmll = s4_t_mosmll + [sub4ttr3gp[i][0][0][0][1][0][0]]\n",
    "    s4_t_mosapl = s4_t_mosapl + [sub4ttr3gp[i][0][0][0][2][0][0]]\n",
    "    s4_t_mosmlr = s4_t_mosmlr + [sub4ttr3gp[i][0][0][0][3][0][0]] \n",
    "    s4_t_mosapr = s4_t_mosapr + [sub4ttr3gp[i][0][0][0][4][0][0]]"
   ]
  },
  {
   "cell_type": "code",
   "execution_count": 7,
   "metadata": {},
   "outputs": [],
   "source": [
    "s5_b_ssr = []\n",
    "s5_b_ssl = []\n",
    "s5_b_ds1 = []\n",
    "s5_b_ds2 = []\n",
    "s5_b_sll = []\n",
    "s5_b_swl = []\n",
    "s5_b_slr = []\n",
    "s5_b_swr = []\n",
    "s5_b_mos = []\n",
    "s5_b_mosmll = []\n",
    "s5_b_mosapl = []\n",
    "s5_b_mosmlr = []\n",
    "s5_b_mosapr = []\n",
    "\n",
    "\n",
    "for i in range(sub5btr1gp.shape[0]):\n",
    "    s5_b_ssr = s5_b_ssr + [sub5btr1gp[i][2][0][0][0][0][0]]\n",
    "    s5_b_ssl = s5_b_ssl + [sub5btr1gp[i][2][0][0][1][0][0]]\n",
    "    s5_b_ds1 = s5_b_ds1 + [sub5btr1gp[i][2][0][0][2][0][0]]\n",
    "    s5_b_ds2 = s5_b_ds2 + [sub5btr1gp[i][2][0][0][3][0][0]]\n",
    "    s5_b_sll = s5_b_sll + [sub5btr1gp[i][1][0][0][0][0][0]]\n",
    "    s5_b_swl = s5_b_swl + [sub5btr1gp[i][1][0][0][1][0][0]]\n",
    "    s5_b_slr = s5_b_slr + [sub5btr1gp[i][1][0][0][2][0][0]]\n",
    "    s5_b_swr = s5_b_swr + [sub5btr1gp[i][1][0][0][3][0][0]]\n",
    "    s5_b_mos = s5_b_mos + [[sub5btr1gp[i][0][0][0][0][0]]]#[0]]]\n",
    "    s5_b_mosmll = s5_b_mosmll + [sub5btr1gp[i][0][0][0][1][0][0]]\n",
    "    s5_b_mosapl = s5_b_mosapl + [sub5btr1gp[i][0][0][0][2][0][0]]\n",
    "    s5_b_mosmlr = s5_b_mosmlr + [sub5btr1gp[i][0][0][0][3][0][0]] \n",
    "    s5_b_mosapr = s5_b_mosapr + [sub5btr1gp[i][0][0][0][4][0][0]]\n",
    "    \n",
    "for i in range(sub5btr2gp.shape[0]):\n",
    "    s5_b_ssr = s5_b_ssr + [sub5btr2gp[i][2][0][0][0][0][0]]\n",
    "    s5_b_ssl = s5_b_ssl + [sub5btr2gp[i][2][0][0][1][0][0]]\n",
    "    s5_b_ds1 = s5_b_ds1 + [sub5btr2gp[i][2][0][0][2][0][0]]\n",
    "    s5_b_ds2 = s5_b_ds2 + [sub5btr2gp[i][2][0][0][3][0][0]]\n",
    "    s5_b_sll = s5_b_sll + [sub5btr2gp[i][1][0][0][0][0][0]]\n",
    "    s5_b_swl = s5_b_swl + [sub5btr2gp[i][1][0][0][1][0][0]]\n",
    "    s5_b_slr = s5_b_slr + [sub5btr2gp[i][1][0][0][2][0][0]]\n",
    "    s5_b_swr = s5_b_swr + [sub5btr2gp[i][1][0][0][3][0][0]]\n",
    "    s5_b_mos = s5_b_mos + [[sub5btr2gp[i][0][0][0][0][0]]]#[0]]]\n",
    "    s5_b_mosmll = s5_b_mosmll + [sub5btr2gp[i][0][0][0][1][0][0]]\n",
    "    s5_b_mosapl = s5_b_mosapl + [sub5btr2gp[i][0][0][0][2][0][0]]\n",
    "    s5_b_mosmlr = s5_b_mosmlr + [sub5btr2gp[i][0][0][0][3][0][0]] \n",
    "    s5_b_mosapr = s5_b_mosapr + [sub5btr2gp[i][0][0][0][4][0][0]]\n",
    "    \n",
    "for i in range(sub5btr3gp.shape[0]):\n",
    "    s5_b_ssr = s5_b_ssr + [sub5btr3gp[i][2][0][0][0][0][0]]\n",
    "    s5_b_ssl = s5_b_ssl + [sub5btr3gp[i][2][0][0][1][0][0]]\n",
    "    s5_b_ds1 = s5_b_ds1 + [sub5btr3gp[i][2][0][0][2][0][0]]\n",
    "    s5_b_ds2 = s5_b_ds2 + [sub5btr3gp[i][2][0][0][3][0][0]]\n",
    "    s5_b_sll = s5_b_sll + [sub5btr3gp[i][1][0][0][0][0][0]]\n",
    "    s5_b_swl = s5_b_swl + [sub5btr3gp[i][1][0][0][1][0][0]]\n",
    "    s5_b_slr = s5_b_slr + [sub5btr3gp[i][1][0][0][2][0][0]]\n",
    "    s5_b_swr = s5_b_swr + [sub5btr3gp[i][1][0][0][3][0][0]]\n",
    "    s5_b_mos = s5_b_mos + [[sub5btr3gp[i][0][0][0][0][0]]]#[0]]]\n",
    "    s5_b_mosmll = s5_b_mosmll + [sub5btr3gp[i][0][0][0][1][0][0]]\n",
    "    s5_b_mosapl = s5_b_mosapl + [sub5btr3gp[i][0][0][0][2][0][0]]\n",
    "    s5_b_mosmlr = s5_b_mosmlr + [sub5btr3gp[i][0][0][0][3][0][0]] \n",
    "    s5_b_mosapr = s5_b_mosapr + [sub5btr3gp[i][0][0][0][4][0][0]]"
   ]
  },
  {
   "cell_type": "code",
   "execution_count": 8,
   "metadata": {},
   "outputs": [],
   "source": [
    "s5_t_ssr = []\n",
    "s5_t_ssl = []\n",
    "s5_t_ds1 = []\n",
    "s5_t_ds2 = []\n",
    "s5_t_sll = []\n",
    "s5_t_swl = []\n",
    "s5_t_slr = []\n",
    "s5_t_swr = []\n",
    "s5_t_mos = []\n",
    "s5_t_mosmll = []\n",
    "s5_t_mosapl = []\n",
    "s5_t_mosmlr = []\n",
    "s5_t_mosapr = []\n",
    "\n",
    "\n",
    "for i in range(sub5ttr1gp.shape[0]):\n",
    "    s5_t_ssr = s5_t_ssr + [sub5ttr1gp[i][2][0][0][0][0][0]]\n",
    "    s5_t_ssl = s5_t_ssl + [sub5ttr1gp[i][2][0][0][1][0][0]]\n",
    "    s5_t_ds1 = s5_t_ds1 + [sub5ttr1gp[i][2][0][0][2][0][0]]\n",
    "    s5_t_ds2 = s5_t_ds2 + [sub5ttr1gp[i][2][0][0][3][0][0]]\n",
    "    s5_t_sll = s5_t_sll + [sub5ttr1gp[i][1][0][0][0][0][0]]\n",
    "    s5_t_swl = s5_t_swl + [sub5ttr1gp[i][1][0][0][1][0][0]]\n",
    "    s5_t_slr = s5_t_slr + [sub5ttr1gp[i][1][0][0][2][0][0]]\n",
    "    s5_t_swr = s5_t_swr + [sub5ttr1gp[i][1][0][0][3][0][0]]\n",
    "    s5_t_mos = s5_t_mos + [[sub5ttr1gp[i][0][0][0][0][0]]]#[0]]]\n",
    "    s5_t_mosmll = s5_t_mosmll + [sub5ttr1gp[i][0][0][0][1][0][0]]\n",
    "    s5_t_mosapl = s5_t_mosapl + [sub5ttr1gp[i][0][0][0][2][0][0]]\n",
    "    s5_t_mosmlr = s5_t_mosmlr + [sub5ttr1gp[i][0][0][0][3][0][0]] \n",
    "    s5_t_mosapr = s5_t_mosapr + [sub5ttr1gp[i][0][0][0][4][0][0]]\n",
    "    \n",
    "for i in range(sub5ttr2gp.shape[0]):\n",
    "    s5_t_ssr = s5_t_ssr + [sub5ttr2gp[i][2][0][0][0][0][0]]\n",
    "    s5_t_ssl = s5_t_ssl + [sub5ttr2gp[i][2][0][0][1][0][0]]\n",
    "    s5_t_ds1 = s5_t_ds1 + [sub5ttr2gp[i][2][0][0][2][0][0]]\n",
    "    s5_t_ds2 = s5_t_ds2 + [sub5ttr2gp[i][2][0][0][3][0][0]]\n",
    "    s5_t_sll = s5_t_sll + [sub5ttr2gp[i][1][0][0][0][0][0]]\n",
    "    s5_t_swl = s5_t_swl + [sub5ttr2gp[i][1][0][0][1][0][0]]\n",
    "    s5_t_slr = s5_t_slr + [sub5ttr2gp[i][1][0][0][2][0][0]]\n",
    "    s5_t_swr = s5_t_swr + [sub5ttr2gp[i][1][0][0][3][0][0]]\n",
    "    s5_t_mos = s5_t_mos + [[sub5ttr2gp[i][0][0][0][0][0]]]#[0]]]\n",
    "    s5_t_mosmll = s5_t_mosmll + [sub5ttr2gp[i][0][0][0][1][0][0]]\n",
    "    s5_t_mosapl = s5_t_mosapl + [sub5ttr2gp[i][0][0][0][2][0][0]]\n",
    "    s5_t_mosmlr = s5_t_mosmlr + [sub5ttr2gp[i][0][0][0][3][0][0]] \n",
    "    s5_t_mosapr = s5_t_mosapr + [sub5ttr2gp[i][0][0][0][4][0][0]]\n",
    "    \n",
    "for i in range(sub5ttr3gp.shape[0]):\n",
    "    s5_t_ssr = s5_t_ssr + [sub5ttr3gp[i][2][0][0][0][0][0]]\n",
    "    s5_t_ssl = s5_t_ssl + [sub5ttr3gp[i][2][0][0][1][0][0]]\n",
    "    s5_t_ds1 = s5_t_ds1 + [sub5ttr3gp[i][2][0][0][2][0][0]]\n",
    "    s5_t_ds2 = s5_t_ds2 + [sub5ttr3gp[i][2][0][0][3][0][0]]\n",
    "    s5_t_sll = s5_t_sll + [sub5ttr3gp[i][1][0][0][0][0][0]]\n",
    "    s5_t_swl = s5_t_swl + [sub5ttr3gp[i][1][0][0][1][0][0]]\n",
    "    s5_t_slr = s5_t_slr + [sub5ttr3gp[i][1][0][0][2][0][0]]\n",
    "    s5_t_swr = s5_t_swr + [sub5ttr3gp[i][1][0][0][3][0][0]]\n",
    "    s5_t_mos = s5_t_mos + [[sub5ttr3gp[i][0][0][0][0][0]]]#[0]]]\n",
    "    s5_t_mosmll = s5_t_mosmll + [sub5ttr3gp[i][0][0][0][1][0][0]]\n",
    "    s5_t_mosapl = s5_t_mosapl + [sub5ttr3gp[i][0][0][0][2][0][0]]\n",
    "    s5_t_mosmlr = s5_t_mosmlr + [sub5ttr3gp[i][0][0][0][3][0][0]] \n",
    "    s5_t_mosapr = s5_t_mosapr + [sub5ttr3gp[i][0][0][0][4][0][0]]"
   ]
  },
  {
   "cell_type": "code",
   "execution_count": 9,
   "metadata": {},
   "outputs": [],
   "source": [
    "s5b_features = np.transpose(np.array(s5_b_ssr))\n",
    "s5b_features = s5b_features.reshape((s5b_features.shape[0],1))\n",
    "s5b_features = np.append(s5b_features,np.transpose(np.array([s5_b_ssl])), axis = 1)\n",
    "s5b_features = np.append(s5b_features,np.transpose(np.array([s5_b_ds1])), axis = 1)\n",
    "s5b_features = np.append(s5b_features,np.transpose(np.array([s5_b_ds2])), axis = 1)\n",
    "s5b_features = np.append(s5b_features,np.transpose(np.array([s5_b_sll])), axis = 1)\n",
    "s5b_features = np.append(s5b_features,np.transpose(np.array([s5_b_swl])), axis = 1)\n",
    "s5b_features = np.append(s5b_features,np.transpose(np.array([s5_b_slr])), axis = 1)\n",
    "s5b_features = np.append(s5b_features,np.transpose(np.array([s5_b_swr])), axis = 1)\n",
    "s5b_features = np.append(s5b_features,np.transpose(np.array([s5_b_mosmll])), axis = 1)\n",
    "s5b_features = np.append(s5b_features,np.transpose(np.array([s5_b_mosapl])), axis = 1)\n",
    "s5b_features = np.append(s5b_features,np.transpose(np.array([s5_b_mosmlr])), axis = 1)\n",
    "s5b_features = np.append(s5b_features,np.transpose(np.array([s5_b_mosapr])), axis = 1)\n",
    "s5b_features = np.append(s5b_features,np.transpose([s5_b_mos])[0][0], axis = 1)\n",
    "s5b_features = np.append(s5b_features,np.transpose([s5_b_mos])[1][0], axis = 1)\n",
    "s5b_features = np.append(s5b_features,np.transpose([s5_b_mos])[2][0], axis = 1)\n",
    "s5b_features = np.append(s5b_features,np.transpose([s5_b_mos])[3][0], axis = 1)\n",
    "s5b_features = np.append(s5b_features,np.transpose([s5_b_mos])[4][0], axis = 1)\n",
    "s5b_features = np.append(s5b_features,np.transpose([s5_b_mos])[5][0], axis = 1)\n",
    "s5b_features = np.append(s5b_features,np.transpose([s5_b_mos])[6][0], axis = 1)\n",
    "s5b_features = np.append(s5b_features,np.transpose([s5_b_mos])[7][0], axis = 1)\n",
    "s5b_features = np.append(s5b_features,np.transpose([s5_b_mos])[8][0], axis = 1)\n",
    "s5b_features = np.append(s5b_features,np.transpose([s5_b_mos])[9][0], axis = 1)\n",
    "\n",
    "s5b_y = np.zeros(s5b_features.shape[0])"
   ]
  },
  {
   "cell_type": "code",
   "execution_count": 10,
   "metadata": {},
   "outputs": [],
   "source": [
    "s5t_features = np.transpose(np.array(s5_t_ssr))\n",
    "s5t_features = s5t_features.reshape((s5t_features.shape[0],1))\n",
    "s5t_features = np.append(s5t_features,np.transpose(np.array([s5_t_ssl])), axis = 1)\n",
    "s5t_features = np.append(s5t_features,np.transpose(np.array([s5_t_ds1])), axis = 1)\n",
    "s5t_features = np.append(s5t_features,np.transpose(np.array([s5_t_ds2])), axis = 1)\n",
    "s5t_features = np.append(s5t_features,np.transpose(np.array([s5_t_sll])), axis = 1)\n",
    "s5t_features = np.append(s5t_features,np.transpose(np.array([s5_t_swl])), axis = 1)\n",
    "s5t_features = np.append(s5t_features,np.transpose(np.array([s5_t_slr])), axis = 1)\n",
    "s5t_features = np.append(s5t_features,np.transpose(np.array([s5_t_swr])), axis = 1)\n",
    "s5t_features = np.append(s5t_features,np.transpose(np.array([s5_t_mosmll])), axis = 1)\n",
    "s5t_features = np.append(s5t_features,np.transpose(np.array([s5_t_mosapl])), axis = 1)\n",
    "s5t_features = np.append(s5t_features,np.transpose(np.array([s5_t_mosmlr])), axis = 1)\n",
    "s5t_features = np.append(s5t_features,np.transpose(np.array([s5_t_mosapr])), axis = 1)\n",
    "s5t_features = np.append(s5t_features,np.transpose([s5_t_mos])[0][0], axis = 1)\n",
    "s5t_features = np.append(s5t_features,np.transpose([s5_t_mos])[1][0], axis = 1)\n",
    "s5t_features = np.append(s5t_features,np.transpose([s5_t_mos])[2][0], axis = 1)\n",
    "s5t_features = np.append(s5t_features,np.transpose([s5_t_mos])[3][0], axis = 1)\n",
    "s5t_features = np.append(s5t_features,np.transpose([s5_t_mos])[4][0], axis = 1)\n",
    "s5t_features = np.append(s5t_features,np.transpose([s5_t_mos])[5][0], axis = 1)\n",
    "s5t_features = np.append(s5t_features,np.transpose([s5_t_mos])[6][0], axis = 1)\n",
    "s5t_features = np.append(s5t_features,np.transpose([s5_t_mos])[7][0], axis = 1)\n",
    "s5t_features = np.append(s5t_features,np.transpose([s5_t_mos])[8][0], axis = 1)\n",
    "s5t_features = np.append(s5t_features,np.transpose([s5_t_mos])[9][0], axis = 1)\n",
    "\n",
    "s5t_y = np.zeros(s5t_features.shape[0]) + 1.0"
   ]
  },
  {
   "cell_type": "code",
   "execution_count": 11,
   "metadata": {},
   "outputs": [],
   "source": [
    "s5_features = np.concatenate((s5b_features,s5t_features))\n",
    "s5_y = np.append(s5b_y,s5t_y)"
   ]
  },
  {
   "cell_type": "code",
   "execution_count": 12,
   "metadata": {},
   "outputs": [],
   "source": [
    "s3b_features = np.transpose(np.array(s3_b_ssr))\n",
    "s3b_features = s3b_features.reshape((s3b_features.shape[0],1))\n",
    "s3b_features = np.append(s3b_features,np.transpose(np.array([s3_b_ssl])), axis = 1)\n",
    "s3b_features = np.append(s3b_features,np.transpose(np.array([s3_b_ds1])), axis = 1)\n",
    "s3b_features = np.append(s3b_features,np.transpose(np.array([s3_b_ds2])), axis = 1)\n",
    "s3b_features = np.append(s3b_features,np.transpose(np.array([s3_b_sll])), axis = 1)\n",
    "s3b_features = np.append(s3b_features,np.transpose(np.array([s3_b_swl])), axis = 1)\n",
    "s3b_features = np.append(s3b_features,np.transpose(np.array([s3_b_slr])), axis = 1)\n",
    "s3b_features = np.append(s3b_features,np.transpose(np.array([s3_b_swr])), axis = 1)\n",
    "s3b_features = np.append(s3b_features,np.transpose(np.array([s3_b_mosmll])), axis = 1)\n",
    "s3b_features = np.append(s3b_features,np.transpose(np.array([s3_b_mosapl])), axis = 1)\n",
    "s3b_features = np.append(s3b_features,np.transpose(np.array([s3_b_mosmlr])), axis = 1)\n",
    "s3b_features = np.append(s3b_features,np.transpose(np.array([s3_b_mosapr])), axis = 1)\n",
    "s3b_features = np.append(s3b_features,np.transpose([s3_b_mos])[0][0], axis = 1)\n",
    "s3b_features = np.append(s3b_features,np.transpose([s3_b_mos])[1][0], axis = 1)\n",
    "s3b_features = np.append(s3b_features,np.transpose([s3_b_mos])[2][0], axis = 1)\n",
    "s3b_features = np.append(s3b_features,np.transpose([s3_b_mos])[3][0], axis = 1)\n",
    "s3b_features = np.append(s3b_features,np.transpose([s3_b_mos])[4][0], axis = 1)\n",
    "s3b_features = np.append(s3b_features,np.transpose([s3_b_mos])[5][0], axis = 1)\n",
    "s3b_features = np.append(s3b_features,np.transpose([s3_b_mos])[6][0], axis = 1)\n",
    "s3b_features = np.append(s3b_features,np.transpose([s3_b_mos])[7][0], axis = 1)\n",
    "s3b_features = np.append(s3b_features,np.transpose([s3_b_mos])[8][0], axis = 1)\n",
    "s3b_features = np.append(s3b_features,np.transpose([s3_b_mos])[9][0], axis = 1)\n",
    "\n",
    "s3b_y = np.zeros(s3b_features.shape[0])"
   ]
  },
  {
   "cell_type": "code",
   "execution_count": 13,
   "metadata": {},
   "outputs": [],
   "source": [
    "s3t_features = np.transpose(np.array(s3_t_ssr))\n",
    "s3t_features = s3t_features.reshape((s3t_features.shape[0],1))\n",
    "s3t_features = np.append(s3t_features,np.transpose(np.array([s3_t_ssl])), axis = 1)\n",
    "s3t_features = np.append(s3t_features,np.transpose(np.array([s3_t_ds1])), axis = 1)\n",
    "s3t_features = np.append(s3t_features,np.transpose(np.array([s3_t_ds2])), axis = 1)\n",
    "s3t_features = np.append(s3t_features,np.transpose(np.array([s3_t_sll])), axis = 1)\n",
    "s3t_features = np.append(s3t_features,np.transpose(np.array([s3_t_swl])), axis = 1)\n",
    "s3t_features = np.append(s3t_features,np.transpose(np.array([s3_t_slr])), axis = 1)\n",
    "s3t_features = np.append(s3t_features,np.transpose(np.array([s3_t_swr])), axis = 1)\n",
    "s3t_features = np.append(s3t_features,np.transpose(np.array([s3_t_mosmll])), axis = 1)\n",
    "s3t_features = np.append(s3t_features,np.transpose(np.array([s3_t_mosapl])), axis = 1)\n",
    "s3t_features = np.append(s3t_features,np.transpose(np.array([s3_t_mosmlr])), axis = 1)\n",
    "s3t_features = np.append(s3t_features,np.transpose(np.array([s3_t_mosapr])), axis = 1)\n",
    "s3t_features = np.append(s3t_features,np.transpose([s3_t_mos])[0][0], axis = 1)\n",
    "s3t_features = np.append(s3t_features,np.transpose([s3_t_mos])[1][0], axis = 1)\n",
    "s3t_features = np.append(s3t_features,np.transpose([s3_t_mos])[2][0], axis = 1)\n",
    "s3t_features = np.append(s3t_features,np.transpose([s3_t_mos])[3][0], axis = 1)\n",
    "s3t_features = np.append(s3t_features,np.transpose([s3_t_mos])[4][0], axis = 1)\n",
    "s3t_features = np.append(s3t_features,np.transpose([s3_t_mos])[5][0], axis = 1)\n",
    "s3t_features = np.append(s3t_features,np.transpose([s3_t_mos])[6][0], axis = 1)\n",
    "s3t_features = np.append(s3t_features,np.transpose([s3_t_mos])[7][0], axis = 1)\n",
    "s3t_features = np.append(s3t_features,np.transpose([s3_t_mos])[8][0], axis = 1)\n",
    "s3t_features = np.append(s3t_features,np.transpose([s3_t_mos])[9][0], axis = 1)\n",
    "\n",
    "s3t_y = np.zeros(s3t_features.shape[0]) + 1.0"
   ]
  },
  {
   "cell_type": "code",
   "execution_count": 14,
   "metadata": {},
   "outputs": [],
   "source": [
    "s3_features = np.concatenate((s3b_features,s3t_features))\n",
    "s3_y = np.append(s3b_y,s3t_y)"
   ]
  },
  {
   "cell_type": "code",
   "execution_count": 15,
   "metadata": {},
   "outputs": [],
   "source": [
    "s4b_features = np.transpose(np.array(s4_b_ssr))\n",
    "s4b_features = s4b_features.reshape((s4b_features.shape[0],1))\n",
    "s4b_features = np.append(s4b_features,np.transpose(np.array([s4_b_ssl])), axis = 1)\n",
    "s4b_features = np.append(s4b_features,np.transpose(np.array([s4_b_ds1])), axis = 1)\n",
    "s4b_features = np.append(s4b_features,np.transpose(np.array([s4_b_ds2])), axis = 1)\n",
    "s4b_features = np.append(s4b_features,np.transpose(np.array([s4_b_sll])), axis = 1)\n",
    "s4b_features = np.append(s4b_features,np.transpose(np.array([s4_b_swl])), axis = 1)\n",
    "s4b_features = np.append(s4b_features,np.transpose(np.array([s4_b_slr])), axis = 1)\n",
    "s4b_features = np.append(s4b_features,np.transpose(np.array([s4_b_swr])), axis = 1)\n",
    "s4b_features = np.append(s4b_features,np.transpose(np.array([s4_b_mosmll])), axis = 1)\n",
    "s4b_features = np.append(s4b_features,np.transpose(np.array([s4_b_mosapl])), axis = 1)\n",
    "s4b_features = np.append(s4b_features,np.transpose(np.array([s4_b_mosmlr])), axis = 1)\n",
    "s4b_features = np.append(s4b_features,np.transpose(np.array([s4_b_mosapr])), axis = 1)\n",
    "s4b_features = np.append(s4b_features,np.transpose([s4_b_mos])[0][0], axis = 1)\n",
    "s4b_features = np.append(s4b_features,np.transpose([s4_b_mos])[1][0], axis = 1)\n",
    "s4b_features = np.append(s4b_features,np.transpose([s4_b_mos])[2][0], axis = 1)\n",
    "s4b_features = np.append(s4b_features,np.transpose([s4_b_mos])[3][0], axis = 1)\n",
    "s4b_features = np.append(s4b_features,np.transpose([s4_b_mos])[4][0], axis = 1)\n",
    "s4b_features = np.append(s4b_features,np.transpose([s4_b_mos])[5][0], axis = 1)\n",
    "s4b_features = np.append(s4b_features,np.transpose([s4_b_mos])[6][0], axis = 1)\n",
    "s4b_features = np.append(s4b_features,np.transpose([s4_b_mos])[7][0], axis = 1)\n",
    "s4b_features = np.append(s4b_features,np.transpose([s4_b_mos])[8][0], axis = 1)\n",
    "s4b_features = np.append(s4b_features,np.transpose([s4_b_mos])[9][0], axis = 1)\n",
    "\n",
    "s4b_y = np.zeros(s4b_features.shape[0])"
   ]
  },
  {
   "cell_type": "code",
   "execution_count": 16,
   "metadata": {},
   "outputs": [],
   "source": [
    "s4t_features = np.transpose(np.array(s4_t_ssr))\n",
    "s4t_features = s4t_features.reshape((s4t_features.shape[0],1))\n",
    "s4t_features = np.append(s4t_features,np.transpose(np.array([s4_t_ssl])), axis = 1)\n",
    "s4t_features = np.append(s4t_features,np.transpose(np.array([s4_t_ds1])), axis = 1)\n",
    "s4t_features = np.append(s4t_features,np.transpose(np.array([s4_t_ds2])), axis = 1)\n",
    "s4t_features = np.append(s4t_features,np.transpose(np.array([s4_t_sll])), axis = 1)\n",
    "s4t_features = np.append(s4t_features,np.transpose(np.array([s4_t_swl])), axis = 1)\n",
    "s4t_features = np.append(s4t_features,np.transpose(np.array([s4_t_slr])), axis = 1)\n",
    "s4t_features = np.append(s4t_features,np.transpose(np.array([s4_t_swr])), axis = 1)\n",
    "s4t_features = np.append(s4t_features,np.transpose(np.array([s4_t_mosmll])), axis = 1)\n",
    "s4t_features = np.append(s4t_features,np.transpose(np.array([s4_t_mosapl])), axis = 1)\n",
    "s4t_features = np.append(s4t_features,np.transpose(np.array([s4_t_mosmlr])), axis = 1)\n",
    "s4t_features = np.append(s4t_features,np.transpose(np.array([s4_t_mosapr])), axis = 1)\n",
    "s4t_features = np.append(s4t_features,np.transpose([s4_t_mos])[0][0], axis = 1)\n",
    "s4t_features = np.append(s4t_features,np.transpose([s4_t_mos])[1][0], axis = 1)\n",
    "s4t_features = np.append(s4t_features,np.transpose([s4_t_mos])[2][0], axis = 1)\n",
    "s4t_features = np.append(s4t_features,np.transpose([s4_t_mos])[3][0], axis = 1)\n",
    "s4t_features = np.append(s4t_features,np.transpose([s4_t_mos])[4][0], axis = 1)\n",
    "s4t_features = np.append(s4t_features,np.transpose([s4_t_mos])[5][0], axis = 1)\n",
    "s4t_features = np.append(s4t_features,np.transpose([s4_t_mos])[6][0], axis = 1)\n",
    "s4t_features = np.append(s4t_features,np.transpose([s4_t_mos])[7][0], axis = 1)\n",
    "s4t_features = np.append(s4t_features,np.transpose([s4_t_mos])[8][0], axis = 1)\n",
    "s4t_features = np.append(s4t_features,np.transpose([s4_t_mos])[9][0], axis = 1)\n",
    "\n",
    "s4t_y = np.zeros(s4t_features.shape[0]) + 1.0 "
   ]
  },
  {
   "cell_type": "code",
   "execution_count": 17,
   "metadata": {},
   "outputs": [],
   "source": [
    "s4_features = np.concatenate((s4b_features,s4t_features))\n",
    "s4_y = np.append(s4b_y,s4t_y)"
   ]
  },
  {
   "cell_type": "code",
   "execution_count": 18,
   "metadata": {},
   "outputs": [],
   "source": [
    "clfs3 = MLPClassifier(hidden_layer_sizes=(100, ), activation='relu', solver='lbfgs', alpha=0.0001, batch_size='auto', \n",
    "                    learning_rate='constant', learning_rate_init=0.001, power_t=0.5, max_iter=200, shuffle=True, \n",
    "                    random_state=None, tol=0.0001, verbose=True, warm_start=False, momentum=0.9, nesterovs_momentum=True, \n",
    "                    early_stopping=False, validation_fraction=0.1, beta_1=0.9, beta_2=0.999, epsilon=1e-08)"
   ]
  },
  {
   "cell_type": "code",
   "execution_count": 20,
   "metadata": {
    "scrolled": true
   },
   "outputs": [
    {
     "name": "stdout",
     "output_type": "stream",
     "text": [
      "s3 score: 1.000000\n"
     ]
    }
   ],
   "source": [
    "clfs3.fit(s3_features, s3_y)\n",
    "print(\"s3 score: %f\" % clfs3.score(s3_features, s3_y))"
   ]
  },
  {
   "cell_type": "code",
   "execution_count": 21,
   "metadata": {},
   "outputs": [
    {
     "data": {
      "text/plain": [
       "array([-0.01869885, -0.0570261 ,  0.00407018, -0.20704949, -0.12899802,\n",
       "       -0.04989527, -0.11559274, -0.21447721,  0.15700699,  0.07377212,\n",
       "       -0.18102477,  0.11051895,  0.07382122, -0.14625012,  0.17472449,\n",
       "        0.21499639, -0.0511769 ,  0.14474618,  0.19473501,  0.03888134,\n",
       "        0.18285498,  0.06814452,  0.07389417, -0.0317519 ,  0.1532934 ,\n",
       "       -0.11309784, -0.12548608,  0.20208514,  0.06032269, -0.14011944,\n",
       "        0.1072668 ,  0.13661428,  0.06600325, -0.09073495,  0.121309  ,\n",
       "       -0.21863112, -0.11229737,  0.10022033, -0.08054773,  0.21491361,\n",
       "        0.07696505, -0.16997382, -0.18197664, -0.19943751,  0.19593855,\n",
       "       -0.00261322, -0.09455085, -0.17601157,  0.03905125, -0.07717561,\n",
       "       -0.09474493, -0.03614224, -0.03818095, -0.13429083,  0.21477752,\n",
       "        0.11648397, -0.09764608, -0.0593292 , -0.00692383,  0.05585602,\n",
       "        0.03232478, -0.08008412,  0.05976054, -0.04664216, -0.09478196,\n",
       "       -0.04070851, -0.00938089, -0.05831447, -0.14143796, -0.18627764,\n",
       "       -0.13135356, -0.00451783,  0.10961826,  0.1191433 ,  0.17956752,\n",
       "        0.12849614,  0.07106402,  0.19217489,  0.03940152,  0.02856512,\n",
       "        0.09821752,  0.1040338 , -0.20841025, -0.14865908,  0.20975425,\n",
       "        0.05973554,  0.2127336 , -0.12000722, -0.12733204,  0.17575716,\n",
       "       -0.21544587, -0.06407638,  0.09685006,  0.19869411,  0.13235531,\n",
       "        0.20293836, -0.09089437, -0.08796927, -0.22083477, -0.06257383])"
      ]
     },
     "execution_count": 21,
     "metadata": {},
     "output_type": "execute_result"
    }
   ],
   "source": [
    "clfs3.coefs_[0][0]"
   ]
  },
  {
   "cell_type": "code",
   "execution_count": 22,
   "metadata": {},
   "outputs": [],
   "source": [
    "clfs4 = MLPClassifier(hidden_layer_sizes=(100, ), activation='relu', solver='lbfgs', alpha=0.0001, batch_size='auto', \n",
    "                    learning_rate='constant', learning_rate_init=0.001, power_t=0.5, max_iter=200, shuffle=True, \n",
    "                    random_state=None, tol=0.0001, verbose=True, warm_start=False, momentum=0.9, nesterovs_momentum=True, \n",
    "                    early_stopping=False, validation_fraction=0.1, beta_1=0.9, beta_2=0.999, epsilon=1e-08)"
   ]
  },
  {
   "cell_type": "code",
   "execution_count": 23,
   "metadata": {},
   "outputs": [
    {
     "name": "stdout",
     "output_type": "stream",
     "text": [
      "s4 score: 1.000000\n"
     ]
    }
   ],
   "source": [
    "clfs4.fit(s4_features, s4_y)\n",
    "print(\"s4 score: %f\" % clfs4.score(s4_features, s4_y))"
   ]
  },
  {
   "cell_type": "code",
   "execution_count": 24,
   "metadata": {},
   "outputs": [],
   "source": [
    "clfs5 = MLPClassifier(hidden_layer_sizes=(100, ), activation='relu', solver='lbfgs', alpha=0.0001, batch_size='auto', \n",
    "                    learning_rate='constant', learning_rate_init=0.001, power_t=0.5, max_iter=200, shuffle=True, \n",
    "                    random_state=None, tol=0.0001, verbose=True, warm_start=False, momentum=0.9, nesterovs_momentum=True, \n",
    "                    early_stopping=False, validation_fraction=0.1, beta_1=0.9, beta_2=0.999, epsilon=1e-08)"
   ]
  },
  {
   "cell_type": "code",
   "execution_count": 25,
   "metadata": {},
   "outputs": [
    {
     "name": "stdout",
     "output_type": "stream",
     "text": [
      "s5 score: 1.000000\n"
     ]
    }
   ],
   "source": [
    "clfs5.fit(s5_features, s5_y)\n",
    "print(\"s5 score: %f\" % clfs5.score(s5_features, s5_y))"
   ]
  },
  {
   "cell_type": "code",
   "execution_count": 26,
   "metadata": {},
   "outputs": [],
   "source": [
    "rfs3 = RandomForestClassifier(n_estimators=10, criterion='gini', max_depth=None, min_samples_split=2, min_samples_leaf=1, \n",
    "                       min_weight_fraction_leaf=0.0, max_features='auto', max_leaf_nodes=None, min_impurity_decrease=0.0, \n",
    "                       min_impurity_split=None, bootstrap=True, oob_score=False, n_jobs=1, random_state=None, verbose=1, \n",
    "                       warm_start=False, class_weight=None)"
   ]
  },
  {
   "cell_type": "code",
   "execution_count": 27,
   "metadata": {},
   "outputs": [
    {
     "name": "stdout",
     "output_type": "stream",
     "text": [
      "rfs3 score: 1.000000\n"
     ]
    },
    {
     "name": "stderr",
     "output_type": "stream",
     "text": [
      "[Parallel(n_jobs=1)]: Done  10 out of  10 | elapsed:    0.0s finished\n",
      "[Parallel(n_jobs=1)]: Done  10 out of  10 | elapsed:    0.0s finished\n"
     ]
    }
   ],
   "source": [
    "rfs3.fit(s3_features, s3_y)\n",
    "print(\"rfs3 score: %f\" % rfs3.score(s3_features, s3_y))"
   ]
  },
  {
   "cell_type": "code",
   "execution_count": 28,
   "metadata": {},
   "outputs": [
    {
     "data": {
      "text/plain": [
       "array([0.01369649, 0.01970326, 0.00993162, 0.25631706, 0.18566923,\n",
       "       0.03094965, 0.06499194, 0.00935391, 0.0027795 , 0.05209915,\n",
       "       0.00795578, 0.11027849, 0.00875694, 0.00783658, 0.0030046 ,\n",
       "       0.03454008, 0.01877496, 0.02189519, 0.00957654, 0.02911289,\n",
       "       0.00806911, 0.094707  ])"
      ]
     },
     "execution_count": 28,
     "metadata": {},
     "output_type": "execute_result"
    }
   ],
   "source": [
    "rfs3.feature_importances_"
   ]
  },
  {
   "cell_type": "code",
   "execution_count": 29,
   "metadata": {},
   "outputs": [],
   "source": [
    "modelrfs3 = SelectFromModel(rfs3, prefit=True)\n",
    "s3_features_new = modelrfs3.transform(s3_features)"
   ]
  },
  {
   "cell_type": "code",
   "execution_count": 30,
   "metadata": {},
   "outputs": [],
   "source": [
    "s3_feat_imp = np.array([\"\" for i in range(s3_features_new.shape[1])], dtype = \"<U225\")\n",
    "\n",
    "for i in range(s3_features_new.shape[1]):\n",
    "    s3_feat_imp[i] = feat_dict[np.where(s3_features[0]==s3_features_new[0][i])[0][0]]"
   ]
  },
  {
   "cell_type": "code",
   "execution_count": 31,
   "metadata": {},
   "outputs": [
    {
     "data": {
      "text/plain": [
       "array(['Double Stance 2', 'Step Length Left', 'Step Length Right',\n",
       "       'General Margin of Stability just before LTO',\n",
       "       'General Margin of Stability at midpoint of LTO and LHS',\n",
       "       'MOS Anterior-Posterior Right'], dtype='<U225')"
      ]
     },
     "execution_count": 31,
     "metadata": {},
     "output_type": "execute_result"
    }
   ],
   "source": [
    "s3_feat_imp"
   ]
  },
  {
   "cell_type": "code",
   "execution_count": 32,
   "metadata": {},
   "outputs": [],
   "source": [
    "rfs4 = RandomForestClassifier(n_estimators=10, criterion='gini', max_depth=None, min_samples_split=2, min_samples_leaf=1, \n",
    "                       min_weight_fraction_leaf=0.0, max_features='auto', max_leaf_nodes=None, min_impurity_decrease=0.0, \n",
    "                       min_impurity_split=None, bootstrap=True, oob_score=False, n_jobs=1, random_state=None, verbose=1, \n",
    "                       warm_start=False, class_weight=None)"
   ]
  },
  {
   "cell_type": "code",
   "execution_count": 35,
   "metadata": {},
   "outputs": [
    {
     "name": "stdout",
     "output_type": "stream",
     "text": [
      "rfs4 score: 1.000000\n"
     ]
    },
    {
     "name": "stderr",
     "output_type": "stream",
     "text": [
      "[Parallel(n_jobs=1)]: Done  10 out of  10 | elapsed:    0.0s finished\n",
      "[Parallel(n_jobs=1)]: Done  10 out of  10 | elapsed:    0.0s finished\n"
     ]
    }
   ],
   "source": [
    "rfs4.fit(s4_features, s4_y)\n",
    "print(\"rfs4 score: %f\" % rfs4.score(s4_features, s4_y))"
   ]
  },
  {
   "cell_type": "code",
   "execution_count": 36,
   "metadata": {},
   "outputs": [
    {
     "data": {
      "text/plain": [
       "array([0.02621361, 0.05562305, 0.01077905, 0.27718827, 0.22594759,\n",
       "       0.00319769, 0.17433878, 0.00724107, 0.01038345, 0.02140969,\n",
       "       0.02740692, 0.03111826, 0.00755103, 0.01344897, 0.00819428,\n",
       "       0.0113682 , 0.00113577, 0.00417234, 0.02097694, 0.02798113,\n",
       "       0.01224388, 0.02208002])"
      ]
     },
     "execution_count": 36,
     "metadata": {},
     "output_type": "execute_result"
    }
   ],
   "source": [
    "rfs4.feature_importances_"
   ]
  },
  {
   "cell_type": "code",
   "execution_count": 37,
   "metadata": {},
   "outputs": [],
   "source": [
    "modelrfs4 = SelectFromModel(rfs4, prefit=True)\n",
    "s4_features_new = modelrfs4.transform(s4_features)"
   ]
  },
  {
   "cell_type": "code",
   "execution_count": 38,
   "metadata": {},
   "outputs": [],
   "source": [
    "s4_feat_imp = np.array([\"\" for i in range(s4_features_new.shape[1])], dtype = \"<U225\")\n",
    "\n",
    "for i in range(s4_features_new.shape[1]):\n",
    "    s4_feat_imp[i] = feat_dict[np.where(s4_features[0]==s4_features_new[0][i])[0][0]]"
   ]
  },
  {
   "cell_type": "code",
   "execution_count": 39,
   "metadata": {},
   "outputs": [
    {
     "data": {
      "text/plain": [
       "array(['Single Stance Left', 'Double Stance 1', 'Step Length Left',\n",
       "       'Step Length Right'], dtype='<U225')"
      ]
     },
     "execution_count": 39,
     "metadata": {},
     "output_type": "execute_result"
    }
   ],
   "source": [
    "s4_feat_imp"
   ]
  },
  {
   "cell_type": "code",
   "execution_count": 40,
   "metadata": {},
   "outputs": [],
   "source": [
    "rfs5 = RandomForestClassifier(n_estimators=10, criterion='gini', max_depth=None, min_samples_split=2, min_samples_leaf=1, \n",
    "                       min_weight_fraction_leaf=0.0, max_features='auto', max_leaf_nodes=None, min_impurity_decrease=0.0, \n",
    "                       min_impurity_split=None, bootstrap=True, oob_score=False, n_jobs=1, random_state=None, verbose=1, \n",
    "                       warm_start=False, class_weight=None)"
   ]
  },
  {
   "cell_type": "code",
   "execution_count": 41,
   "metadata": {},
   "outputs": [
    {
     "name": "stdout",
     "output_type": "stream",
     "text": [
      "rfs5 score: 1.000000\n"
     ]
    },
    {
     "name": "stderr",
     "output_type": "stream",
     "text": [
      "[Parallel(n_jobs=1)]: Done  10 out of  10 | elapsed:    0.0s finished\n",
      "[Parallel(n_jobs=1)]: Done  10 out of  10 | elapsed:    0.0s finished\n"
     ]
    }
   ],
   "source": [
    "rfs5.fit(s5_features, s5_y)\n",
    "print(\"rfs5 score: %f\" % rfs5.score(s5_features, s5_y))"
   ]
  },
  {
   "cell_type": "code",
   "execution_count": 42,
   "metadata": {},
   "outputs": [
    {
     "data": {
      "text/plain": [
       "array([0.15467309, 0.17281687, 0.02577306, 0.12923051, 0.01680131,\n",
       "       0.00190107, 0.01213207, 0.00353889, 0.        , 0.12150156,\n",
       "       0.00357015, 0.09183461, 0.02386669, 0.11496308, 0.00920791,\n",
       "       0.02442228, 0.00408143, 0.01514026, 0.06328322, 0.00629489,\n",
       "       0.00496705, 0.        ])"
      ]
     },
     "execution_count": 42,
     "metadata": {},
     "output_type": "execute_result"
    }
   ],
   "source": [
    "rfs5.feature_importances_"
   ]
  },
  {
   "cell_type": "code",
   "execution_count": 43,
   "metadata": {},
   "outputs": [],
   "source": [
    "modelrfs5 = SelectFromModel(rfs5, prefit=True)\n",
    "s5_features_new = modelrfs5.transform(s5_features)"
   ]
  },
  {
   "cell_type": "code",
   "execution_count": 44,
   "metadata": {},
   "outputs": [],
   "source": [
    "s5_feat_imp = np.array([\"\" for i in range(s5_features_new.shape[1])], dtype = \"<U225\")\n",
    "\n",
    "for i in range(s5_features_new.shape[1]):\n",
    "    s5_feat_imp[i] = feat_dict[np.where(s5_features[0]==s5_features_new[0][i])[0][0]]"
   ]
  },
  {
   "cell_type": "code",
   "execution_count": 45,
   "metadata": {},
   "outputs": [
    {
     "data": {
      "text/plain": [
       "array(['Single Stance Right', 'Single Stance Left', 'Double Stance 2',\n",
       "       'General Margin of Stability just before LTO',\n",
       "       'General Margin of Stability at midpoint of LTO and LHS',\n",
       "       'General Margin of Stability just after LHS',\n",
       "       'MOS Medial-Lateral Left'], dtype='<U225')"
      ]
     },
     "execution_count": 45,
     "metadata": {},
     "output_type": "execute_result"
    }
   ],
   "source": [
    "s5_feat_imp"
   ]
  },
  {
   "cell_type": "code",
   "execution_count": null,
   "metadata": {},
   "outputs": [],
   "source": []
  }
 ],
 "metadata": {
  "kernelspec": {
   "display_name": "Python 3",
   "language": "python",
   "name": "python3"
  },
  "language_info": {
   "codemirror_mode": {
    "name": "ipython",
    "version": 3
   },
   "file_extension": ".py",
   "mimetype": "text/x-python",
   "name": "python",
   "nbconvert_exporter": "python",
   "pygments_lexer": "ipython3",
   "version": "3.6.5"
  }
 },
 "nbformat": 4,
 "nbformat_minor": 2
}
